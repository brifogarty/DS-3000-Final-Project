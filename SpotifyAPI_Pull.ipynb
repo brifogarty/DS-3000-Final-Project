{
 "cells": [
  {
   "cell_type": "markdown",
   "metadata": {},
   "source": [
    "---\n",
    "## 0. Imports"
   ]
  },
  {
   "cell_type": "code",
   "execution_count": 1,
   "metadata": {},
   "outputs": [],
   "source": [
    "from bs4 import BeautifulSoup\n",
    "import http.client\n",
    "import urllib\n",
    "import os\n",
    "\n",
    "import pandas as pd\n",
    "import numpy as np\n",
    "import csv\n",
    "\n",
    "import dateutil.parser\n",
    "import datetime\n",
    "import sys\n",
    "\n",
    "import spotipy\n",
    "import spotipy.util"
   ]
  },
  {
   "cell_type": "code",
   "execution_count": 2,
   "metadata": {},
   "outputs": [],
   "source": [
    "filepath = ('./prev-chart-crawls'\n",
    "            + '/pull_D-2019-11-19_T-19-56-59-692877'\n",
    "            + '/Result_D-2019-11-19_T-19-56-59-693112_FrmD-2017-01-01_ToD-2019-11-18.csv')\n",
    "\n",
    "chartCrawl_df = pd.read_csv(filepath, index_col=0)\n",
    "chartCrawl_df['Date'] = pd.to_datetime(chartCrawl_df['Date'], yearfirst=True)"
   ]
  },
  {
   "cell_type": "markdown",
   "metadata": {},
   "source": [
    "---\n",
    "## 1. Spotify API"
   ]
  },
  {
   "cell_type": "markdown",
   "metadata": {},
   "source": [
    "### 1.1. Connection"
   ]
  },
  {
   "cell_type": "code",
   "execution_count": 3,
   "metadata": {},
   "outputs": [],
   "source": [
    "client_id = '987f8aab8f804962a2f19a86e310905c'\n",
    "client_secret = 'bdb457608ae84339ad7d3c41696cf10e'\n",
    "cred_manager = spotipy.util.oauth2.SpotifyClientCredentials(client_id, client_secret)"
   ]
  },
  {
   "cell_type": "code",
   "execution_count": 4,
   "metadata": {},
   "outputs": [],
   "source": [
    "sp = spotipy.Spotify(client_credentials_manager=cred_manager)"
   ]
  },
  {
   "cell_type": "markdown",
   "metadata": {},
   "source": [
    "### 1.2. Contents"
   ]
  },
  {
   "cell_type": "code",
   "execution_count": 5,
   "metadata": {},
   "outputs": [],
   "source": [
    "def gen_type_str(obj, r_pat=' '):\n",
    "    type_str = str(type(obj)).rpartition(r_pat)[2][:-1].replace('\\'', '').strip()\n",
    "    if isinstance(obj, str) and ('http' in obj):\n",
    "        return '(url str)'\n",
    "    else:\n",
    "        return '('+type_str+')'\n",
    "\n",
    "def print_dict_keys(print_arg, lvl=0, spc_mult=5, r_mrgn=50):\n",
    "    if isinstance(print_arg, list) and lvl==0:\n",
    "        print_arg = print_arg[0]\n",
    "    for key, item in print_arg.items():\n",
    "        indt_lvl = (spc_mult * lvl)\n",
    "        key_spacing = ' '*indt_lvl\n",
    "        type_spacing = ' '*(r_mrgn-len(key)-indt_lvl)\n",
    "        print(key_spacing, key, type_spacing, gen_type_str(item))\n",
    "        if isinstance(item, dict):\n",
    "            print_dict_keys(item, lvl+1)\n",
    "        else:\n",
    "            continue"
   ]
  },
  {
   "cell_type": "code",
   "execution_count": 75,
   "metadata": {},
   "outputs": [
    {
     "data": {
      "text/plain": [
       "[]"
      ]
     },
     "execution_count": 75,
     "metadata": {},
     "output_type": "execute_result"
    }
   ],
   "source": [
    "sf_track_id = '3JWiDGQX2eTlFvKj3Yssj3'\n",
    "sf_album_id = sp.track(sf_track_id)['album']['id']\n",
    "sp.album(sf_album_id)['genres']"
   ]
  },
  {
   "cell_type": "code",
   "execution_count": 7,
   "metadata": {
    "scrolled": false
   },
   "outputs": [
    {
     "name": "stdout",
     "output_type": "stream",
     "text": [
      "\n",
      " ____________________________TRACK DETAILS_____________________________ \n",
      "\n",
      " album                                               (dict)\n",
      "      album_type                                     (str)\n",
      "      artists                                        (list)\n",
      "      available_markets                              (list)\n",
      "      external_urls                                  (dict)\n",
      "           spotify                                   (url str)\n",
      "      href                                           (url str)\n",
      "      id                                             (str)\n",
      "      images                                         (list)\n",
      "      name                                           (str)\n",
      "      release_date                                   (str)\n",
      "      release_date_precision                         (str)\n",
      "      total_tracks                                   (int)\n",
      "      type                                           (str)\n",
      "      uri                                            (str)\n",
      " artists                                             (list)\n",
      " available_markets                                   (list)\n",
      " disc_number                                         (int)\n",
      " duration_ms                                         (int)\n",
      " explicit                                            (bool)\n",
      " external_ids                                        (dict)\n",
      "      isrc                                           (str)\n",
      " external_urls                                       (dict)\n",
      "      spotify                                        (url str)\n",
      " href                                                (url str)\n",
      " id                                                  (str)\n",
      " is_local                                            (bool)\n",
      " name                                                (str)\n",
      " popularity                                          (int)\n",
      " preview_url                                         (NoneType)\n",
      " track_number                                        (int)\n",
      " type                                                (str)\n",
      " uri                                                 (str)\n",
      "\n",
      " ____________________________AUDIO FEATURES____________________________ \n",
      "\n",
      " danceability                                        (float)\n",
      " energy                                              (float)\n",
      " key                                                 (int)\n",
      " loudness                                            (float)\n",
      " mode                                                (int)\n",
      " speechiness                                         (float)\n",
      " acousticness                                        (float)\n",
      " instrumentalness                                    (float)\n",
      " liveness                                            (float)\n",
      " valence                                             (float)\n",
      " tempo                                               (float)\n",
      " type                                                (str)\n",
      " id                                                  (str)\n",
      " uri                                                 (str)\n",
      " track_href                                          (url str)\n",
      " analysis_url                                        (url str)\n",
      " duration_ms                                         (int)\n",
      " time_signature                                      (int)\n",
      "\n",
      " ____________________________AUDIO ANALYSIS____________________________ \n",
      "\n",
      " meta                                                (dict)\n",
      "      analyzer_version                               (str)\n",
      "      platform                                       (str)\n",
      "      detailed_status                                (str)\n",
      "      status_code                                    (int)\n",
      "      timestamp                                      (int)\n",
      "      analysis_time                                  (float)\n",
      "      input_process                                  (str)\n",
      " track                                               (dict)\n",
      "      num_samples                                    (int)\n",
      "      duration                                       (float)\n",
      "      sample_md5                                     (str)\n",
      "      offset_seconds                                 (int)\n",
      "      window_seconds                                 (int)\n",
      "      analysis_sample_rate                           (int)\n",
      "      analysis_channels                              (int)\n",
      "      end_of_fade_in                                 (float)\n",
      "      start_of_fade_out                              (float)\n",
      "      loudness                                       (float)\n",
      "      tempo                                          (float)\n",
      "      tempo_confidence                               (float)\n",
      "      time_signature                                 (int)\n",
      "      time_signature_confidence                      (float)\n",
      "      key                                            (int)\n",
      "      key_confidence                                 (float)\n",
      "      mode                                           (int)\n",
      "      mode_confidence                                (float)\n",
      "      codestring                                     (str)\n",
      "      code_version                                   (float)\n",
      "      echoprintstring                                (str)\n",
      "      echoprint_version                              (float)\n",
      "      synchstring                                    (str)\n",
      "      synch_version                                  (float)\n",
      "      rhythmstring                                   (str)\n",
      "      rhythm_version                                 (float)\n",
      " bars                                                (list)\n",
      " beats                                               (list)\n",
      " tatums                                              (list)\n",
      " sections                                            (list)\n",
      " segments                                            (list)\n",
      "\n",
      " ____________________________ALBUM DETAILS_____________________________ \n",
      "\n",
      " album_type                                          (str)\n",
      " artists                                             (list)\n",
      " available_markets                                   (list)\n",
      " copyrights                                          (list)\n",
      " external_ids                                        (dict)\n",
      "      upc                                            (str)\n",
      " external_urls                                       (dict)\n",
      "      spotify                                        (url str)\n",
      " genres                                              (list)\n",
      " href                                                (url str)\n",
      " id                                                  (str)\n",
      " images                                              (list)\n",
      " label                                               (str)\n",
      " name                                                (str)\n",
      " popularity                                          (int)\n",
      " release_date                                        (str)\n",
      " release_date_precision                              (str)\n",
      " total_tracks                                        (int)\n",
      " tracks                                              (dict)\n",
      "      href                                           (url str)\n",
      "      items                                          (list)\n",
      "      limit                                          (int)\n",
      "      next                                           (NoneType)\n",
      "      offset                                         (int)\n",
      "      previous                                       (NoneType)\n",
      "      total                                          (int)\n",
      " type                                                (str)\n",
      " uri                                                 (str)\n"
     ]
    }
   ],
   "source": [
    "sf_track_id = '3JWiDGQX2eTlFvKj3Yssj3'\n",
    "sf_album_id = sp.track(sf_track_id)['album']['id']\n",
    "fmt_str = '{:_^70}'\n",
    "sp_api_dict = {\n",
    "    'TRACK DETAILS':[sp.track, sf_track_id],\n",
    "    'AUDIO FEATURES':[sp.audio_features, sf_track_id],\n",
    "    'AUDIO ANALYSIS':[sp.audio_analysis, sf_track_id],\n",
    "    'ALBUM DETAILS':[sp.album, sf_album_id],\n",
    "}\n",
    "for sp_name, sp_list in sp_api_dict.items():\n",
    "    print('\\n', fmt_str.format(sp_name), '\\n')\n",
    "    print_dict_keys(sp_list[0](sp_list[1]))"
   ]
  },
  {
   "cell_type": "markdown",
   "metadata": {},
   "source": [
    "---\n",
    "## 2. Helper Methods"
   ]
  },
  {
   "cell_type": "code",
   "execution_count": 8,
   "metadata": {},
   "outputs": [],
   "source": [
    "def gen_internalTrackId_df(chartCrawl_df_arg):\n",
    "    \"\"\"Returns a DataFrame containing all unique internal track ids.\"\"\"\n",
    "    interalId_srs = chartCrawl_df_arg['Spotify_URL'].str.rpartition('/')[2].unique()\n",
    "    return pd.DataFrame(interalId_srs, columns=['Internal Track ID'], dtype=str)"
   ]
  },
  {
   "cell_type": "code",
   "execution_count": 9,
   "metadata": {
    "scrolled": true
   },
   "outputs": [
    {
     "data": {
      "text/html": [
       "<div>\n",
       "<style scoped>\n",
       "    .dataframe tbody tr th:only-of-type {\n",
       "        vertical-align: middle;\n",
       "    }\n",
       "\n",
       "    .dataframe tbody tr th {\n",
       "        vertical-align: top;\n",
       "    }\n",
       "\n",
       "    .dataframe thead th {\n",
       "        text-align: right;\n",
       "    }\n",
       "</style>\n",
       "<table border=\"1\" class=\"dataframe\">\n",
       "  <thead>\n",
       "    <tr style=\"text-align: right;\">\n",
       "      <th></th>\n",
       "      <th>Internal Track ID</th>\n",
       "    </tr>\n",
       "  </thead>\n",
       "  <tbody>\n",
       "    <tr>\n",
       "      <th>0</th>\n",
       "      <td>4Km5HrUvYTaSUfiSGPJeQR</td>\n",
       "    </tr>\n",
       "    <tr>\n",
       "      <th>1</th>\n",
       "      <td>343YBumqHu19cGoGARUTsd</td>\n",
       "    </tr>\n",
       "    <tr>\n",
       "      <th>2</th>\n",
       "      <td>5aAx2yezTd8zXrkmtKl66Z</td>\n",
       "    </tr>\n",
       "    <tr>\n",
       "      <th>3</th>\n",
       "      <td>7BKLCZ1jbUBVqRi2FVlTVw</td>\n",
       "    </tr>\n",
       "    <tr>\n",
       "      <th>4</th>\n",
       "      <td>6fujklziTHa8uoM5OQSfIo</td>\n",
       "    </tr>\n",
       "    <tr>\n",
       "      <th>5</th>\n",
       "      <td>7yyRTcZmCiyzzJlNzGC9Ol</td>\n",
       "    </tr>\n",
       "    <tr>\n",
       "      <th>6</th>\n",
       "      <td>1xznGGDReH1oQq0xzbwXa3</td>\n",
       "    </tr>\n",
       "    <tr>\n",
       "      <th>7</th>\n",
       "      <td>7FB8l7UA1HKqnuSLjP9qDc</td>\n",
       "    </tr>\n",
       "    <tr>\n",
       "      <th>8</th>\n",
       "      <td>4pdPtRcBmOSQDlJ3Fk945m</td>\n",
       "    </tr>\n",
       "    <tr>\n",
       "      <th>9</th>\n",
       "      <td>0SGkqnVQo9KPytSri1H6cF</td>\n",
       "    </tr>\n",
       "    <tr>\n",
       "      <th>10</th>\n",
       "      <td>5GXAXm5YOmYT0kL5jHvYBt</td>\n",
       "    </tr>\n",
       "    <tr>\n",
       "      <th>11</th>\n",
       "      <td>6b8Be6ljOzmkOmFslEb23P</td>\n",
       "    </tr>\n",
       "    <tr>\n",
       "      <th>12</th>\n",
       "      <td>1PSBzsahR2AKwLJgx8ehBj</td>\n",
       "    </tr>\n",
       "    <tr>\n",
       "      <th>13</th>\n",
       "      <td>6fwdbPMwP1zVStm8FybmkO</td>\n",
       "    </tr>\n",
       "    <tr>\n",
       "      <th>14</th>\n",
       "      <td>3NdDpSvN911VPGivFlV5d0</td>\n",
       "    </tr>\n",
       "    <tr>\n",
       "      <th>15</th>\n",
       "      <td>5MFzQMkrl1FOOng9tq6R9r</td>\n",
       "    </tr>\n",
       "    <tr>\n",
       "      <th>16</th>\n",
       "      <td>5uDASfU19gDxSjW8cnCaBp</td>\n",
       "    </tr>\n",
       "    <tr>\n",
       "      <th>17</th>\n",
       "      <td>6I6NX6tjGsxFAsIfGzY9lJ</td>\n",
       "    </tr>\n",
       "    <tr>\n",
       "      <th>18</th>\n",
       "      <td>7JYsArznYOjX2jsrT3UEnL</td>\n",
       "    </tr>\n",
       "    <tr>\n",
       "      <th>19</th>\n",
       "      <td>4F7A0DXBrmUAkp32uenhZt</td>\n",
       "    </tr>\n",
       "    <tr>\n",
       "      <th>20</th>\n",
       "      <td>0v9Wz8o0BT8DU38R4ddjeH</td>\n",
       "    </tr>\n",
       "    <tr>\n",
       "      <th>21</th>\n",
       "      <td>4gmmRb6bZJffOOiww1JGTO</td>\n",
       "    </tr>\n",
       "    <tr>\n",
       "      <th>22</th>\n",
       "      <td>1qOLh0tI7trd1zdDKxYZTe</td>\n",
       "    </tr>\n",
       "    <tr>\n",
       "      <th>23</th>\n",
       "      <td>0QsvXIfqM0zZoerQfsI9lm</td>\n",
       "    </tr>\n",
       "    <tr>\n",
       "      <th>24</th>\n",
       "      <td>4pLwZjInHj3SimIyN9SnOz</td>\n",
       "    </tr>\n",
       "    <tr>\n",
       "      <th>25</th>\n",
       "      <td>4Hf7WnR761jpxPr5D46Bcd</td>\n",
       "    </tr>\n",
       "    <tr>\n",
       "      <th>26</th>\n",
       "      <td>04DwTuZ2VBdJCCC5TROn7L</td>\n",
       "    </tr>\n",
       "    <tr>\n",
       "      <th>27</th>\n",
       "      <td>4ckuS4Nj4FZ7i3Def3Br8W</td>\n",
       "    </tr>\n",
       "    <tr>\n",
       "      <th>28</th>\n",
       "      <td>6JV2JOEocMgcZxYSZelKcc</td>\n",
       "    </tr>\n",
       "    <tr>\n",
       "      <th>29</th>\n",
       "      <td>4tCtwWceOPWzenK2HAIJSb</td>\n",
       "    </tr>\n",
       "    <tr>\n",
       "      <th>...</th>\n",
       "      <td>...</td>\n",
       "    </tr>\n",
       "    <tr>\n",
       "      <th>5296</th>\n",
       "      <td>3hBXvHLlTHvnbwrPbeoyAj</td>\n",
       "    </tr>\n",
       "    <tr>\n",
       "      <th>5297</th>\n",
       "      <td>63VyEdzMM3w4ZQ1WtARa2S</td>\n",
       "    </tr>\n",
       "    <tr>\n",
       "      <th>5298</th>\n",
       "      <td>4TnjEaWOeW0eKTKIEvJyCa</td>\n",
       "    </tr>\n",
       "    <tr>\n",
       "      <th>5299</th>\n",
       "      <td>3i9UVldZOE0aD0JnyfAZZ0</td>\n",
       "    </tr>\n",
       "    <tr>\n",
       "      <th>5300</th>\n",
       "      <td>6YfTl5YupXOQBKiJJLrxcw</td>\n",
       "    </tr>\n",
       "    <tr>\n",
       "      <th>5301</th>\n",
       "      <td>3ZCTVFBt2Brf31RLEnCkWJ</td>\n",
       "    </tr>\n",
       "    <tr>\n",
       "      <th>5302</th>\n",
       "      <td>1cL3ucXzG2hj3XOUPIWdvZ</td>\n",
       "    </tr>\n",
       "    <tr>\n",
       "      <th>5303</th>\n",
       "      <td>3GRSqlALWISqLeNncZMbpX</td>\n",
       "    </tr>\n",
       "    <tr>\n",
       "      <th>5304</th>\n",
       "      <td>4wopYJ5wpYOM6ogm2Jugnw</td>\n",
       "    </tr>\n",
       "    <tr>\n",
       "      <th>5305</th>\n",
       "      <td>696DnlkuDOXcMAnKlTgXXK</td>\n",
       "    </tr>\n",
       "    <tr>\n",
       "      <th>5306</th>\n",
       "      <td>364spZLB5bhNlnPrzvUB41</td>\n",
       "    </tr>\n",
       "    <tr>\n",
       "      <th>5307</th>\n",
       "      <td>6JsHgIkMYHcbNtKfsal2Mg</td>\n",
       "    </tr>\n",
       "    <tr>\n",
       "      <th>5308</th>\n",
       "      <td>2W4yABdLc4Jnds67Poi5Nl</td>\n",
       "    </tr>\n",
       "    <tr>\n",
       "      <th>5309</th>\n",
       "      <td>1mpD5Q8IM32I4bF6eCpU74</td>\n",
       "    </tr>\n",
       "    <tr>\n",
       "      <th>5310</th>\n",
       "      <td>7jzldCBnJjpJM3epzJ85KE</td>\n",
       "    </tr>\n",
       "    <tr>\n",
       "      <th>5311</th>\n",
       "      <td>1nal3Tf1OCV53KigMZXsZ7</td>\n",
       "    </tr>\n",
       "    <tr>\n",
       "      <th>5312</th>\n",
       "      <td>0BpYTh0O2ut5wvt0QtDGt4</td>\n",
       "    </tr>\n",
       "    <tr>\n",
       "      <th>5313</th>\n",
       "      <td>1jg9clsGCDqOumfS0X5xm9</td>\n",
       "    </tr>\n",
       "    <tr>\n",
       "      <th>5314</th>\n",
       "      <td>0Odu228D0yGcFySGuxU4rY</td>\n",
       "    </tr>\n",
       "    <tr>\n",
       "      <th>5315</th>\n",
       "      <td>1nwsxV3FiYC3SJD9OfcVfF</td>\n",
       "    </tr>\n",
       "    <tr>\n",
       "      <th>5316</th>\n",
       "      <td>3AHqaOkEFKZ6zEHdiplIv7</td>\n",
       "    </tr>\n",
       "    <tr>\n",
       "      <th>5317</th>\n",
       "      <td>2rc7BkzO8qepMFAxHtOrXc</td>\n",
       "    </tr>\n",
       "    <tr>\n",
       "      <th>5318</th>\n",
       "      <td>1wTH87zcNcR4vn1iJLDv0c</td>\n",
       "    </tr>\n",
       "    <tr>\n",
       "      <th>5319</th>\n",
       "      <td>74a9iiRlyYXgwjSrntULcv</td>\n",
       "    </tr>\n",
       "    <tr>\n",
       "      <th>5320</th>\n",
       "      <td>2DcZd7oFgctIJZG5pFncyD</td>\n",
       "    </tr>\n",
       "    <tr>\n",
       "      <th>5321</th>\n",
       "      <td>3RFT4wk8sMnr5XhkxYJrW2</td>\n",
       "    </tr>\n",
       "    <tr>\n",
       "      <th>5322</th>\n",
       "      <td>6RyaV7owmVU6fzEPE17sF1</td>\n",
       "    </tr>\n",
       "    <tr>\n",
       "      <th>5323</th>\n",
       "      <td>1e9oZCCiX42nJl0AcqriVo</td>\n",
       "    </tr>\n",
       "    <tr>\n",
       "      <th>5324</th>\n",
       "      <td>4kKdvXD0ez7jp1296JmAts</td>\n",
       "    </tr>\n",
       "    <tr>\n",
       "      <th>5325</th>\n",
       "      <td>6qL5UWxRSQYml9O99ozoLv</td>\n",
       "    </tr>\n",
       "  </tbody>\n",
       "</table>\n",
       "<p>5326 rows × 1 columns</p>\n",
       "</div>"
      ],
      "text/plain": [
       "           Internal Track ID\n",
       "0     4Km5HrUvYTaSUfiSGPJeQR\n",
       "1     343YBumqHu19cGoGARUTsd\n",
       "2     5aAx2yezTd8zXrkmtKl66Z\n",
       "3     7BKLCZ1jbUBVqRi2FVlTVw\n",
       "4     6fujklziTHa8uoM5OQSfIo\n",
       "5     7yyRTcZmCiyzzJlNzGC9Ol\n",
       "6     1xznGGDReH1oQq0xzbwXa3\n",
       "7     7FB8l7UA1HKqnuSLjP9qDc\n",
       "8     4pdPtRcBmOSQDlJ3Fk945m\n",
       "9     0SGkqnVQo9KPytSri1H6cF\n",
       "10    5GXAXm5YOmYT0kL5jHvYBt\n",
       "11    6b8Be6ljOzmkOmFslEb23P\n",
       "12    1PSBzsahR2AKwLJgx8ehBj\n",
       "13    6fwdbPMwP1zVStm8FybmkO\n",
       "14    3NdDpSvN911VPGivFlV5d0\n",
       "15    5MFzQMkrl1FOOng9tq6R9r\n",
       "16    5uDASfU19gDxSjW8cnCaBp\n",
       "17    6I6NX6tjGsxFAsIfGzY9lJ\n",
       "18    7JYsArznYOjX2jsrT3UEnL\n",
       "19    4F7A0DXBrmUAkp32uenhZt\n",
       "20    0v9Wz8o0BT8DU38R4ddjeH\n",
       "21    4gmmRb6bZJffOOiww1JGTO\n",
       "22    1qOLh0tI7trd1zdDKxYZTe\n",
       "23    0QsvXIfqM0zZoerQfsI9lm\n",
       "24    4pLwZjInHj3SimIyN9SnOz\n",
       "25    4Hf7WnR761jpxPr5D46Bcd\n",
       "26    04DwTuZ2VBdJCCC5TROn7L\n",
       "27    4ckuS4Nj4FZ7i3Def3Br8W\n",
       "28    6JV2JOEocMgcZxYSZelKcc\n",
       "29    4tCtwWceOPWzenK2HAIJSb\n",
       "...                      ...\n",
       "5296  3hBXvHLlTHvnbwrPbeoyAj\n",
       "5297  63VyEdzMM3w4ZQ1WtARa2S\n",
       "5298  4TnjEaWOeW0eKTKIEvJyCa\n",
       "5299  3i9UVldZOE0aD0JnyfAZZ0\n",
       "5300  6YfTl5YupXOQBKiJJLrxcw\n",
       "5301  3ZCTVFBt2Brf31RLEnCkWJ\n",
       "5302  1cL3ucXzG2hj3XOUPIWdvZ\n",
       "5303  3GRSqlALWISqLeNncZMbpX\n",
       "5304  4wopYJ5wpYOM6ogm2Jugnw\n",
       "5305  696DnlkuDOXcMAnKlTgXXK\n",
       "5306  364spZLB5bhNlnPrzvUB41\n",
       "5307  6JsHgIkMYHcbNtKfsal2Mg\n",
       "5308  2W4yABdLc4Jnds67Poi5Nl\n",
       "5309  1mpD5Q8IM32I4bF6eCpU74\n",
       "5310  7jzldCBnJjpJM3epzJ85KE\n",
       "5311  1nal3Tf1OCV53KigMZXsZ7\n",
       "5312  0BpYTh0O2ut5wvt0QtDGt4\n",
       "5313  1jg9clsGCDqOumfS0X5xm9\n",
       "5314  0Odu228D0yGcFySGuxU4rY\n",
       "5315  1nwsxV3FiYC3SJD9OfcVfF\n",
       "5316  3AHqaOkEFKZ6zEHdiplIv7\n",
       "5317  2rc7BkzO8qepMFAxHtOrXc\n",
       "5318  1wTH87zcNcR4vn1iJLDv0c\n",
       "5319  74a9iiRlyYXgwjSrntULcv\n",
       "5320  2DcZd7oFgctIJZG5pFncyD\n",
       "5321  3RFT4wk8sMnr5XhkxYJrW2\n",
       "5322  6RyaV7owmVU6fzEPE17sF1\n",
       "5323  1e9oZCCiX42nJl0AcqriVo\n",
       "5324  4kKdvXD0ez7jp1296JmAts\n",
       "5325  6qL5UWxRSQYml9O99ozoLv\n",
       "\n",
       "[5326 rows x 1 columns]"
      ]
     },
     "execution_count": 9,
     "metadata": {},
     "output_type": "execute_result"
    }
   ],
   "source": [
    "internalTrackId_df = gen_internalTrackId_df(chartCrawl_df)\n",
    "internalTrackId_df"
   ]
  },
  {
   "cell_type": "markdown",
   "metadata": {},
   "source": [
    "---\n",
    "## 3. API Methods"
   ]
  },
  {
   "cell_type": "code",
   "execution_count": 34,
   "metadata": {},
   "outputs": [],
   "source": [
    "def get_details_df(unq_id_row):\n",
    "    spotify_id = unq_id_row['Spotify_ID']\n",
    "    details_dict = sp.track(spotify_id)\n",
    "    return {'Spotify_ID':spotify_id, 'Track Details Obj':details_dict}"
   ]
  },
  {
   "cell_type": "code",
   "execution_count": 35,
   "metadata": {},
   "outputs": [],
   "source": [
    "def get_features_df(unq_id_row):\n",
    "    spotify_id = unq_id_row['Spotify_ID']\n",
    "    features_list = sp.audio_features(spotify_id)\n",
    "    features_dict = features_list[0]\n",
    "    return {'Spotify_ID':spotify_id, 'Audio Features Obj':features_dict}"
   ]
  },
  {
   "cell_type": "code",
   "execution_count": 36,
   "metadata": {},
   "outputs": [],
   "source": [
    "def get_album_df(unq_id_row):\n",
    "    album_id = unq_id_row['Track Details Obj']['album']['id']\n",
    "    album_dict = sp.album(album_id)\n",
    "    return {'Spotify_ID':unq_id_row['Spotify_ID'], 'Album_ID':album_id, 'Album Details Obj':album_dict}"
   ]
  },
  {
   "cell_type": "code",
   "execution_count": 37,
   "metadata": {},
   "outputs": [],
   "source": [
    "def gen_trackInfo_df(unq_id_df):\n",
    "    \"\"\"Returns and saves to csv the pd.DataFrames of track details.\"\"\"\n",
    "    details_df = unq_id_df.apply(get_details_df, \n",
    "                                 axis=1, \n",
    "                                 result_type='expand')\n",
    "    \n",
    "    features_df = unq_id_df.apply(get_features_df, \n",
    "                                  axis=1, \n",
    "                                  result_type='expand')\n",
    "    \n",
    "    album_df = details_df.apply(get_album_df, \n",
    "                                  axis=1, \n",
    "                                  result_type='expand')\n",
    "    \n",
    "    return (details_df, features_df, album_df)"
   ]
  },
  {
   "cell_type": "code",
   "execution_count": 38,
   "metadata": {},
   "outputs": [],
   "source": [
    "def get_newest_dirpath(data_dirpath):\n",
    "    dir_contents = [d for d in os.listdir(data_dirpath) if d.startswith('D-')]\n",
    "    dir_contents.sort(reverse = True)\n",
    "    dir_name = dir_contents[0]\n",
    "    return os.path.join(data_dirpath, dir_name)"
   ]
  },
  {
   "cell_type": "code",
   "execution_count": 39,
   "metadata": {},
   "outputs": [],
   "source": [
    "def extract_api_values(api_df, api_obj_name, tgt_keys):\n",
    "    for key in tgt_keys:\n",
    "        api_df[key] = api_df[api_obj_name].apply(lambda a: a[key])\n",
    "    return api_df"
   ]
  },
  {
   "cell_type": "code",
   "execution_count": 40,
   "metadata": {},
   "outputs": [],
   "source": [
    "def report_df(df, name):\n",
    "    print('\\n{:_^70}'.format(' '+name.upper()+' '), '\\n')\n",
    "    print('{:<0}{:<10}'.format('shape ', str(df.shape)), '\\n')\n",
    "    print('{:<0}'.format('columns '))\n",
    "    print('{:<5}'.format(str(list(df.columns))), '\\n')\n",
    "    print('{:<5}{:<20}{:<20}{:<20}'.format(' ', 'col name', 'num na', 'num unique'))\n",
    "    for col in df.columns:\n",
    "        num_unq = 0\n",
    "        try:\n",
    "            num_unq = len(df[col].unique())\n",
    "        except:\n",
    "            num_unq = ''\n",
    "        print('{:<5}{:<20}{:<20}{:<20}'.format(' ', col, len(df[col][df[col].isna()]), num_unq))"
   ]
  },
  {
   "cell_type": "code",
   "execution_count": 123,
   "metadata": {},
   "outputs": [],
   "source": [
    "def pull_api_data(pull_dirpath=None):\n",
    "    \n",
    "    pull_dirpath = get_newest_dirpath('./data') if (pull_dirpath is None) else pull_dirpath\n",
    "    results_filepath = [d for d in os.listdir(pull_dirpath) if d.startswith('Result')][0]\n",
    "    \n",
    "    charts_df = pd.read_csv(os.path.join(pull_dirpath, results_filepath), index_col=0)\n",
    "    report_df(charts_df, 'charts')\n",
    "    \n",
    "    unq_id_df = pd.DataFrame({'Spotify_ID':charts_df['Spotify_ID'].unique()})\n",
    "    report_df(unq_id_df, 'unq_id')\n",
    "    \n",
    "    api_df_tup = gen_trackInfo_df(unq_id_df)\n",
    "    \n",
    "    tgt_details = [\n",
    "        'id', 'external_ids', 'uri',  'name', 'album', 'artists', \n",
    "        'available_markets', 'duration_ms', 'explicit', 'track_number'\n",
    "    ]\n",
    "    details_df = extract_api_values(api_df_tup[0], 'Track Details Obj', tgt_details)\n",
    "    details_df.to_csv(os.path.join(pull_dirpath, 'track_details.csv'))\n",
    "    report_df(details_df, 'details')\n",
    "    \n",
    "    tgt_features = [\n",
    "        'id', 'uri',\n",
    "        'danceability', 'energy', 'key', 'loudness', 'mode', 'speechiness', 'acousticness', \n",
    "        'instrumentalness', 'liveness', 'valence', 'tempo', 'duration_ms', 'time_signature'\n",
    "    ]\n",
    "    features_df = extract_api_values(api_df_tup[1], 'Audio Features Obj', tgt_features)\n",
    "    features_df.to_csv(os.path.join(pull_dirpath, 'audio_features.csv'))\n",
    "    report_df(features_df, 'features')\n",
    "    \n",
    "    tgt_album = [\n",
    "        'id', 'uri', 'external_ids', 'name', 'artists', \n",
    "        'label', 'album_type', 'genres', \n",
    "        'total_tracks'\n",
    "    ]\n",
    "    albums_df = extract_api_values(api_df_tup[2], 'Album Details Obj', tgt_album)\n",
    "    albums_df.to_csv(os.path.join(pull_dirpath, 'album_details.csv'))\n",
    "    report_df(albums_df, 'album')\n",
    "    \n",
    "    merged_df = unq_id_df.merge(details_df, on='Spotify_ID')\n",
    "    merged_df = merged_df.merge(features_df, on=['Spotify_ID'], suffixes=('', '_feature'))\n",
    "    merged_df = merged_df.merge(albums_df, on=['Spotify_ID'], suffixes=('', '_album'))\n",
    "    merged_df.to_csv(os.path.join(pull_dirpath, 'merged_track_info.csv'))\n",
    "    report_df(merged_df, 'merged')\n",
    "    \n",
    "    id_info = ['Spotify_ID', 'id', 'uri', 'external_ids', 'name']\n",
    "    album_info = ['name_album', 'artists']\n",
    "    \n",
    "    ordinal = ['explicit', 'mode', 'total_tracks', 'track_number', 'time_signature', 'key']\n",
    "    catagorical = ['label', 'album_type']\n",
    "    continuous = ['danceability', 'energy', 'loudness', 'speechiness', \n",
    "                  'acousticness', 'instrumentalness', 'liveness', 'valence', 'tempo']\n",
    "    \n",
    "    ml_cols = [\n",
    "        'Spotify_ID', 'id', 'uri', 'external_ids', 'name',\n",
    "        'name_album', 'artists', 'label', 'album_type', 'total_tracks',\n",
    "        'duration_ms', \n",
    "        'explicit', 'track_number', 'mode', 'time_signature',\n",
    "        'danceability', 'energy', 'key', 'loudness', 'speechiness', 'acousticness', \n",
    "        'instrumentalness', 'liveness', 'valence', 'tempo', \n",
    "    ]\n",
    "    ml_df = pd.DataFrame(merged_df.loc[:, ml_cols], copy=True)\n",
    "    ml_df['external_ids'] = ml_df['external_ids'].apply(lambda e: e['isrc'])\n",
    "    ml_df['label'] = ml_df['label'].apply(lambda l: l.split('/'))\n",
    "    ml_df.to_csv(os.path.join(pull_dirpath, 'ml_dataset.csv'))\n",
    "    report_df(ml_df, 'ml dataset')\n",
    "    \n",
    "    return ml_df"
   ]
  },
  {
   "cell_type": "code",
   "execution_count": 124,
   "metadata": {
    "scrolled": false
   },
   "outputs": [
    {
     "name": "stdout",
     "output_type": "stream",
     "text": [
      "\n",
      "_______________________________ CHARTS _______________________________ \n",
      "\n",
      "shape (267050, 11) \n",
      "\n",
      "columns \n",
      "['Chart', 'Region', 'Date', 'Position', 'Trend', 'Title', 'Artist', 'Streams', 'Icon_URL', 'Spotify_URL', 'Spotify_ID'] \n",
      "\n",
      "     col name            num na              num unique          \n",
      "     Chart               0                   2                   \n",
      "     Region              0                   1                   \n",
      "     Date                0                   1072                \n",
      "     Position            0                   200                 \n",
      "     Trend               0                   4                   \n",
      "     Title               27                  7665                \n",
      "     Artist              27                  2886                \n",
      "     Streams             53250               168160              \n",
      "     Icon_URL            0                   6242                \n",
      "     Spotify_URL         0                   9462                \n",
      "     Spotify_ID          0                   9462                \n",
      "\n",
      "_______________________________ UNQ_ID _______________________________ \n",
      "\n",
      "shape (9462, 1)  \n",
      "\n",
      "columns \n",
      "['Spotify_ID'] \n",
      "\n",
      "     col name            num na              num unique          \n",
      "     Spotify_ID          0                   9462                \n",
      "retrying ...1secs\n",
      "retrying ...1secs\n",
      "retrying ...1secs\n",
      "retrying ...1secs\n",
      "\n",
      "______________________________ DETAILS _______________________________ \n",
      "\n",
      "shape (9462, 12) \n",
      "\n",
      "columns \n",
      "['Spotify_ID', 'Track Details Obj', 'id', 'external_ids', 'uri', 'name', 'album', 'artists', 'available_markets', 'duration_ms', 'explicit', 'track_number'] \n",
      "\n",
      "     col name            num na              num unique          \n",
      "     Spotify_ID          0                   9462                \n",
      "     Track Details Obj   0                                       \n",
      "     id                  0                   9462                \n",
      "     external_ids        0                                       \n",
      "     uri                 0                   9462                \n",
      "     name                0                   7664                \n",
      "     album               0                                       \n",
      "     artists             0                                       \n",
      "     available_markets   0                                       \n",
      "     duration_ms         0                   7550                \n",
      "     explicit            0                   2                   \n",
      "     track_number        0                   37                  \n",
      "\n",
      "______________________________ FEATURES ______________________________ \n",
      "\n",
      "shape (9462, 17) \n",
      "\n",
      "columns \n",
      "['Audio Features Obj', 'Spotify_ID', 'id', 'uri', 'danceability', 'energy', 'key', 'loudness', 'mode', 'speechiness', 'acousticness', 'instrumentalness', 'liveness', 'valence', 'tempo', 'duration_ms', 'time_signature'] \n",
      "\n",
      "     col name            num na              num unique          \n",
      "     Audio Features Obj  0                                       \n",
      "     Spotify_ID          0                   9462                \n",
      "     id                  0                   9462                \n",
      "     uri                 0                   9462                \n",
      "     danceability        0                   766                 \n",
      "     energy              0                   899                 \n",
      "     key                 0                   12                  \n",
      "     loudness            0                   5641                \n",
      "     mode                0                   2                   \n",
      "     speechiness         0                   1237                \n",
      "     acousticness        0                   2470                \n",
      "     instrumentalness    0                   2582                \n",
      "     liveness            0                   1197                \n",
      "     valence             0                   1106                \n",
      "     tempo               0                   7576                \n",
      "     duration_ms         0                   7533                \n",
      "     time_signature      0                   4                   \n",
      "\n",
      "_______________________________ ALBUM ________________________________ \n",
      "\n",
      "shape (9462, 12) \n",
      "\n",
      "columns \n",
      "['Album Details Obj', 'Album_ID', 'Spotify_ID', 'id', 'uri', 'external_ids', 'name', 'artists', 'label', 'album_type', 'genres', 'total_tracks'] \n",
      "\n",
      "     col name            num na              num unique          \n",
      "     Album Details Obj   0                                       \n",
      "     Album_ID            0                   6302                \n",
      "     Spotify_ID          0                   9462                \n",
      "     id                  0                   6302                \n",
      "     uri                 0                   6302                \n",
      "     external_ids        0                                       \n",
      "     name                0                   5557                \n",
      "     artists             0                                       \n",
      "     label               0                   2127                \n",
      "     album_type          0                   3                   \n",
      "     genres              0                                       \n",
      "     total_tracks        0                   55                  \n",
      "\n",
      "_______________________________ MERGED _______________________________ \n",
      "\n",
      "shape (9462, 39) \n",
      "\n",
      "columns \n",
      "['Spotify_ID', 'Track Details Obj', 'id', 'external_ids', 'uri', 'name', 'album', 'artists', 'available_markets', 'duration_ms', 'explicit', 'track_number', 'Audio Features Obj', 'id_feature', 'uri_feature', 'danceability', 'energy', 'key', 'loudness', 'mode', 'speechiness', 'acousticness', 'instrumentalness', 'liveness', 'valence', 'tempo', 'duration_ms_feature', 'time_signature', 'Album Details Obj', 'Album_ID', 'id_album', 'uri_album', 'external_ids_album', 'name_album', 'artists_album', 'label', 'album_type', 'genres', 'total_tracks'] \n",
      "\n",
      "     col name            num na              num unique          \n",
      "     Spotify_ID          0                   9462                \n",
      "     Track Details Obj   0                                       \n",
      "     id                  0                   9462                \n",
      "     external_ids        0                                       \n",
      "     uri                 0                   9462                \n",
      "     name                0                   7664                \n",
      "     album               0                                       \n",
      "     artists             0                                       \n",
      "     available_markets   0                                       \n",
      "     duration_ms         0                   7550                \n",
      "     explicit            0                   2                   \n",
      "     track_number        0                   37                  \n",
      "     Audio Features Obj  0                                       \n",
      "     id_feature          0                   9462                \n",
      "     uri_feature         0                   9462                \n",
      "     danceability        0                   766                 \n",
      "     energy              0                   899                 \n",
      "     key                 0                   12                  \n",
      "     loudness            0                   5641                \n",
      "     mode                0                   2                   \n",
      "     speechiness         0                   1237                \n",
      "     acousticness        0                   2470                \n",
      "     instrumentalness    0                   2582                \n",
      "     liveness            0                   1197                \n",
      "     valence             0                   1106                \n",
      "     tempo               0                   7576                \n",
      "     duration_ms_feature 0                   7533                \n",
      "     time_signature      0                   4                   \n",
      "     Album Details Obj   0                                       \n",
      "     Album_ID            0                   6302                \n",
      "     id_album            0                   6302                \n",
      "     uri_album           0                   6302                \n",
      "     external_ids_album  0                                       \n",
      "     name_album          0                   5557                \n",
      "     artists_album       0                                       \n",
      "     label               0                   2127                \n",
      "     album_type          0                   3                   \n",
      "     genres              0                                       \n",
      "     total_tracks        0                   55                  \n"
     ]
    },
    {
     "ename": "KeyError",
     "evalue": "'isrc'",
     "output_type": "error",
     "traceback": [
      "\u001b[0;31m---------------------------------------------------------------------------\u001b[0m",
      "\u001b[0;31mKeyError\u001b[0m                                  Traceback (most recent call last)",
      "\u001b[0;32m<ipython-input-124-b1f7b75a4c5d>\u001b[0m in \u001b[0;36m<module>\u001b[0;34m\u001b[0m\n\u001b[0;32m----> 1\u001b[0;31m \u001b[0mres_df\u001b[0m \u001b[0;34m=\u001b[0m \u001b[0mpull_api_data\u001b[0m\u001b[0;34m(\u001b[0m\u001b[0;34m)\u001b[0m\u001b[0;34m\u001b[0m\u001b[0;34m\u001b[0m\u001b[0m\n\u001b[0m",
      "\u001b[0;32m<ipython-input-123-5b7d79679b73>\u001b[0m in \u001b[0;36mpull_api_data\u001b[0;34m(pull_dirpath)\u001b[0m\n\u001b[1;32m     61\u001b[0m     ]\n\u001b[1;32m     62\u001b[0m     \u001b[0mml_df\u001b[0m \u001b[0;34m=\u001b[0m \u001b[0mpd\u001b[0m\u001b[0;34m.\u001b[0m\u001b[0mDataFrame\u001b[0m\u001b[0;34m(\u001b[0m\u001b[0mmerged_df\u001b[0m\u001b[0;34m.\u001b[0m\u001b[0mloc\u001b[0m\u001b[0;34m[\u001b[0m\u001b[0;34m:\u001b[0m\u001b[0;34m,\u001b[0m \u001b[0mml_cols\u001b[0m\u001b[0;34m]\u001b[0m\u001b[0;34m,\u001b[0m \u001b[0mcopy\u001b[0m\u001b[0;34m=\u001b[0m\u001b[0;32mTrue\u001b[0m\u001b[0;34m)\u001b[0m\u001b[0;34m\u001b[0m\u001b[0;34m\u001b[0m\u001b[0m\n\u001b[0;32m---> 63\u001b[0;31m     \u001b[0mml_df\u001b[0m\u001b[0;34m[\u001b[0m\u001b[0;34m'external_ids'\u001b[0m\u001b[0;34m]\u001b[0m \u001b[0;34m=\u001b[0m \u001b[0mml_df\u001b[0m\u001b[0;34m[\u001b[0m\u001b[0;34m'external_ids'\u001b[0m\u001b[0;34m]\u001b[0m\u001b[0;34m.\u001b[0m\u001b[0mapply\u001b[0m\u001b[0;34m(\u001b[0m\u001b[0;32mlambda\u001b[0m \u001b[0me\u001b[0m\u001b[0;34m:\u001b[0m \u001b[0me\u001b[0m\u001b[0;34m[\u001b[0m\u001b[0;34m'isrc'\u001b[0m\u001b[0;34m]\u001b[0m\u001b[0;34m)\u001b[0m\u001b[0;34m\u001b[0m\u001b[0;34m\u001b[0m\u001b[0m\n\u001b[0m\u001b[1;32m     64\u001b[0m     \u001b[0mml_df\u001b[0m\u001b[0;34m[\u001b[0m\u001b[0;34m'label'\u001b[0m\u001b[0;34m]\u001b[0m \u001b[0;34m=\u001b[0m \u001b[0mml_df\u001b[0m\u001b[0;34m[\u001b[0m\u001b[0;34m'label'\u001b[0m\u001b[0;34m]\u001b[0m\u001b[0;34m.\u001b[0m\u001b[0mapply\u001b[0m\u001b[0;34m(\u001b[0m\u001b[0;32mlambda\u001b[0m \u001b[0ml\u001b[0m\u001b[0;34m:\u001b[0m \u001b[0ml\u001b[0m\u001b[0;34m.\u001b[0m\u001b[0msplit\u001b[0m\u001b[0;34m(\u001b[0m\u001b[0;34m'/'\u001b[0m\u001b[0;34m)\u001b[0m\u001b[0;34m)\u001b[0m\u001b[0;34m\u001b[0m\u001b[0;34m\u001b[0m\u001b[0m\n\u001b[1;32m     65\u001b[0m     \u001b[0mml_df\u001b[0m\u001b[0;34m.\u001b[0m\u001b[0mto_csv\u001b[0m\u001b[0;34m(\u001b[0m\u001b[0mos\u001b[0m\u001b[0;34m.\u001b[0m\u001b[0mpath\u001b[0m\u001b[0;34m.\u001b[0m\u001b[0mjoin\u001b[0m\u001b[0;34m(\u001b[0m\u001b[0mpull_dirpath\u001b[0m\u001b[0;34m,\u001b[0m \u001b[0;34m'ml_dataset.csv'\u001b[0m\u001b[0;34m)\u001b[0m\u001b[0;34m)\u001b[0m\u001b[0;34m\u001b[0m\u001b[0;34m\u001b[0m\u001b[0m\n",
      "\u001b[0;32m~/anaconda3/lib/python3.7/site-packages/pandas/core/series.py\u001b[0m in \u001b[0;36mapply\u001b[0;34m(self, func, convert_dtype, args, **kwds)\u001b[0m\n\u001b[1;32m   3589\u001b[0m             \u001b[0;32melse\u001b[0m\u001b[0;34m:\u001b[0m\u001b[0;34m\u001b[0m\u001b[0;34m\u001b[0m\u001b[0m\n\u001b[1;32m   3590\u001b[0m                 \u001b[0mvalues\u001b[0m \u001b[0;34m=\u001b[0m \u001b[0mself\u001b[0m\u001b[0;34m.\u001b[0m\u001b[0mastype\u001b[0m\u001b[0;34m(\u001b[0m\u001b[0mobject\u001b[0m\u001b[0;34m)\u001b[0m\u001b[0;34m.\u001b[0m\u001b[0mvalues\u001b[0m\u001b[0;34m\u001b[0m\u001b[0;34m\u001b[0m\u001b[0m\n\u001b[0;32m-> 3591\u001b[0;31m                 \u001b[0mmapped\u001b[0m \u001b[0;34m=\u001b[0m \u001b[0mlib\u001b[0m\u001b[0;34m.\u001b[0m\u001b[0mmap_infer\u001b[0m\u001b[0;34m(\u001b[0m\u001b[0mvalues\u001b[0m\u001b[0;34m,\u001b[0m \u001b[0mf\u001b[0m\u001b[0;34m,\u001b[0m \u001b[0mconvert\u001b[0m\u001b[0;34m=\u001b[0m\u001b[0mconvert_dtype\u001b[0m\u001b[0;34m)\u001b[0m\u001b[0;34m\u001b[0m\u001b[0;34m\u001b[0m\u001b[0m\n\u001b[0m\u001b[1;32m   3592\u001b[0m \u001b[0;34m\u001b[0m\u001b[0m\n\u001b[1;32m   3593\u001b[0m         \u001b[0;32mif\u001b[0m \u001b[0mlen\u001b[0m\u001b[0;34m(\u001b[0m\u001b[0mmapped\u001b[0m\u001b[0;34m)\u001b[0m \u001b[0;32mand\u001b[0m \u001b[0misinstance\u001b[0m\u001b[0;34m(\u001b[0m\u001b[0mmapped\u001b[0m\u001b[0;34m[\u001b[0m\u001b[0;36m0\u001b[0m\u001b[0;34m]\u001b[0m\u001b[0;34m,\u001b[0m \u001b[0mSeries\u001b[0m\u001b[0;34m)\u001b[0m\u001b[0;34m:\u001b[0m\u001b[0;34m\u001b[0m\u001b[0;34m\u001b[0m\u001b[0m\n",
      "\u001b[0;32mpandas/_libs/lib.pyx\u001b[0m in \u001b[0;36mpandas._libs.lib.map_infer\u001b[0;34m()\u001b[0m\n",
      "\u001b[0;32m<ipython-input-123-5b7d79679b73>\u001b[0m in \u001b[0;36m<lambda>\u001b[0;34m(e)\u001b[0m\n\u001b[1;32m     61\u001b[0m     ]\n\u001b[1;32m     62\u001b[0m     \u001b[0mml_df\u001b[0m \u001b[0;34m=\u001b[0m \u001b[0mpd\u001b[0m\u001b[0;34m.\u001b[0m\u001b[0mDataFrame\u001b[0m\u001b[0;34m(\u001b[0m\u001b[0mmerged_df\u001b[0m\u001b[0;34m.\u001b[0m\u001b[0mloc\u001b[0m\u001b[0;34m[\u001b[0m\u001b[0;34m:\u001b[0m\u001b[0;34m,\u001b[0m \u001b[0mml_cols\u001b[0m\u001b[0;34m]\u001b[0m\u001b[0;34m,\u001b[0m \u001b[0mcopy\u001b[0m\u001b[0;34m=\u001b[0m\u001b[0;32mTrue\u001b[0m\u001b[0;34m)\u001b[0m\u001b[0;34m\u001b[0m\u001b[0;34m\u001b[0m\u001b[0m\n\u001b[0;32m---> 63\u001b[0;31m     \u001b[0mml_df\u001b[0m\u001b[0;34m[\u001b[0m\u001b[0;34m'external_ids'\u001b[0m\u001b[0;34m]\u001b[0m \u001b[0;34m=\u001b[0m \u001b[0mml_df\u001b[0m\u001b[0;34m[\u001b[0m\u001b[0;34m'external_ids'\u001b[0m\u001b[0;34m]\u001b[0m\u001b[0;34m.\u001b[0m\u001b[0mapply\u001b[0m\u001b[0;34m(\u001b[0m\u001b[0;32mlambda\u001b[0m \u001b[0me\u001b[0m\u001b[0;34m:\u001b[0m \u001b[0me\u001b[0m\u001b[0;34m[\u001b[0m\u001b[0;34m'isrc'\u001b[0m\u001b[0;34m]\u001b[0m\u001b[0;34m)\u001b[0m\u001b[0;34m\u001b[0m\u001b[0;34m\u001b[0m\u001b[0m\n\u001b[0m\u001b[1;32m     64\u001b[0m     \u001b[0mml_df\u001b[0m\u001b[0;34m[\u001b[0m\u001b[0;34m'label'\u001b[0m\u001b[0;34m]\u001b[0m \u001b[0;34m=\u001b[0m \u001b[0mml_df\u001b[0m\u001b[0;34m[\u001b[0m\u001b[0;34m'label'\u001b[0m\u001b[0;34m]\u001b[0m\u001b[0;34m.\u001b[0m\u001b[0mapply\u001b[0m\u001b[0;34m(\u001b[0m\u001b[0;32mlambda\u001b[0m \u001b[0ml\u001b[0m\u001b[0;34m:\u001b[0m \u001b[0ml\u001b[0m\u001b[0;34m.\u001b[0m\u001b[0msplit\u001b[0m\u001b[0;34m(\u001b[0m\u001b[0;34m'/'\u001b[0m\u001b[0;34m)\u001b[0m\u001b[0;34m)\u001b[0m\u001b[0;34m\u001b[0m\u001b[0;34m\u001b[0m\u001b[0m\n\u001b[1;32m     65\u001b[0m     \u001b[0mml_df\u001b[0m\u001b[0;34m.\u001b[0m\u001b[0mto_csv\u001b[0m\u001b[0;34m(\u001b[0m\u001b[0mos\u001b[0m\u001b[0;34m.\u001b[0m\u001b[0mpath\u001b[0m\u001b[0;34m.\u001b[0m\u001b[0mjoin\u001b[0m\u001b[0;34m(\u001b[0m\u001b[0mpull_dirpath\u001b[0m\u001b[0;34m,\u001b[0m \u001b[0;34m'ml_dataset.csv'\u001b[0m\u001b[0;34m)\u001b[0m\u001b[0;34m)\u001b[0m\u001b[0;34m\u001b[0m\u001b[0;34m\u001b[0m\u001b[0m\n",
      "\u001b[0;31mKeyError\u001b[0m: 'isrc'"
     ]
    }
   ],
   "source": [
    "res_df = pull_api_data()"
   ]
  },
  {
   "cell_type": "code",
   "execution_count": null,
   "metadata": {},
   "outputs": [],
   "source": [
    "unq_cols = [\n",
    "    'album_type', 'explicit', 'mode', 'time_signature',\n",
    "    'key',\n",
    "    'total_tracks', 'track_number', \n",
    "]\n",
    "\n",
    "for col in unq_cols:\n",
    "    unq_arr = []\n",
    "    try:\n",
    "        unq_arr = res_df[col].unique()\n",
    "    except:\n",
    "        unq_arr = np.unique(np.concatenate(res_df[col].to_numpy()))\n",
    "    print('\\n{:_^70}'.format(' '+col.upper()+' '), '\\n')\n",
    "    print('{:<0}{:>5}'.format('LEN:', len(unq_arr)), '\\n')\n",
    "    print('{:<0}'.format('VALUES:'))\n",
    "    for val in unq_arr:\n",
    "        print('{: >5}'.format(str(val)))"
   ]
  },
  {
   "cell_type": "markdown",
   "metadata": {},
   "source": [
    "---\n",
    "## ... Testing"
   ]
  },
  {
   "cell_type": "code",
   "execution_count": null,
   "metadata": {},
   "outputs": [],
   "source": [
    "trackInfo_tup = gen_trackInfo_df(chartCrawl_df[chartCrawl_df['Artist']=='Drake'],\n",
    "                                 get_track_details=True,\n",
    "                                 get_audio_features=True,\n",
    "                                 get_audio_analysis=False)"
   ]
  },
  {
   "cell_type": "code",
   "execution_count": null,
   "metadata": {},
   "outputs": [],
   "source": [
    "drake_details_df = trackInfo_tup[0]"
   ]
  },
  {
   "cell_type": "code",
   "execution_count": null,
   "metadata": {},
   "outputs": [],
   "source": [
    "tgt_features = ['danceability', 'energy', 'key', 'loudness', 'mode', 'speechiness', 'acousticness', \n",
    "                'instrumentalness', 'liveness', 'valence', 'tempo', 'duration_ms', 'time_signature']"
   ]
  },
  {
   "cell_type": "code",
   "execution_count": null,
   "metadata": {},
   "outputs": [],
   "source": [
    "drake_features_df = pd.DataFrame(trackInfo_tup[1], copy=True)\n",
    "for feature in tgt_features:\n",
    "    drake_features_df[feature] = drake_features_df['Audio Features Obj'].apply(lambda a: a[feature])\n",
    "drake_features_df.set_index('Internal Track ID')\n",
    "drake_features_df.to_csv('./drake_audio_features.csv')"
   ]
  },
  {
   "cell_type": "code",
   "execution_count": null,
   "metadata": {
    "scrolled": true
   },
   "outputs": [],
   "source": [
    "talk_up_df = drake_details_df[(drake_details_df['Internal Track ID']=='3Yw09dj3cTXsAzlLjgBfIP') |\n",
    "                 (drake_details_df['Internal Track ID']=='4ksuI04WMvUnJbHQjgs3L5')]\n",
    "talk_up_df"
   ]
  },
  {
   "cell_type": "code",
   "execution_count": null,
   "metadata": {
    "scrolled": true
   },
   "outputs": [],
   "source": [
    "gods_plan_df = drake_details_df[drake_details_df['Internal Track ID'].isin(\n",
    "    ['2XW4DbS6NddZxRPm5rMCeY', '6T8cJz5lAqGer9GUHGyelE', '2VWbHHhWnMzKWPUs4IEEW9', '6DCZcSspjsKoFjzjrWoCdn'] \n",
    ")]\n",
    "gods_plan_df"
   ]
  },
  {
   "cell_type": "code",
   "execution_count": null,
   "metadata": {
    "scrolled": true
   },
   "outputs": [],
   "source": [
    "dont_talk_df = drake_details_df[drake_details_df['Internal Track ID'].isin(\n",
    "    ['36ONiya0OANYknz0GgJmwB', '6G8kHiVZ1jW7vHMPVRNZU0'] \n",
    ")]\n",
    "dont_talk_df"
   ]
  },
  {
   "cell_type": "code",
   "execution_count": null,
   "metadata": {},
   "outputs": [],
   "source": [
    "tgt_keys_arr = ['disc_number', 'duration_ms', 'explicit', 'external_ids', \n",
    "                'external_urls', 'href', 'id', 'name', 'preview_url', 'track_number', 'uri']\n",
    "\n",
    "def print_track_compares(track_df, keys_arr=tgt_keys_arr):\n",
    "    print('----------\\n')\n",
    "    for track_idx, details_obj in track_df['Track Details Obj'].items():\n",
    "        print('track_idx:\\t', track_idx, '\\n')\n",
    "        for tgt_key in tgt_keys_arr:\n",
    "            print(tgt_key + ':\\t\\t', details_obj[tgt_key])\n",
    "        print('\\n----------\\n')"
   ]
  },
  {
   "cell_type": "code",
   "execution_count": null,
   "metadata": {
    "scrolled": true
   },
   "outputs": [],
   "source": [
    "print_track_compares(talk_up_df)"
   ]
  },
  {
   "cell_type": "code",
   "execution_count": null,
   "metadata": {
    "scrolled": true
   },
   "outputs": [],
   "source": [
    "print_track_compares(gods_plan_df)"
   ]
  },
  {
   "cell_type": "code",
   "execution_count": null,
   "metadata": {
    "scrolled": true
   },
   "outputs": [],
   "source": [
    "print_track_compares(dont_talk_df)"
   ]
  },
  {
   "cell_type": "code",
   "execution_count": null,
   "metadata": {
    "scrolled": true
   },
   "outputs": [],
   "source": [
    "trackInfo_tup[1]"
   ]
  },
  {
   "cell_type": "code",
   "execution_count": null,
   "metadata": {},
   "outputs": [],
   "source": [
    "trackInfo_tup[2]"
   ]
  },
  {
   "cell_type": "code",
   "execution_count": null,
   "metadata": {},
   "outputs": [],
   "source": [
    "sp.audio_analysis('2QpGZOhTCHHiKmpSO9FW4h')['track'].keys()"
   ]
  },
  {
   "cell_type": "code",
   "execution_count": null,
   "metadata": {},
   "outputs": [],
   "source": [
    "sp.audio_features('2QpGZOhTCHHiKmpSO9FW4h')[0].keys()"
   ]
  },
  {
   "cell_type": "code",
   "execution_count": null,
   "metadata": {},
   "outputs": [],
   "source": [
    "sp.audio_analysis('https://open.spotify.com/track/2QpGZOhTCHHiKmpSO9FW4h')"
   ]
  },
  {
   "cell_type": "code",
   "execution_count": null,
   "metadata": {},
   "outputs": [],
   "source": [
    "sp.track('https://open.spotify.com/track/2QpGZOhTCHHiKmpSO9FW4h')"
   ]
  },
  {
   "cell_type": "code",
   "execution_count": null,
   "metadata": {},
   "outputs": [],
   "source": [
    "search_result = sp.search(q='Dance Monkey Tones and I', limit=1, type='track', market='US')\n",
    "search_result['tracks']['items'][0].keys()"
   ]
  },
  {
   "cell_type": "code",
   "execution_count": null,
   "metadata": {
    "scrolled": true
   },
   "outputs": [],
   "source": [
    "sp.search(q='Dance Monkey Tones and I', limit=3, type='track', market='US')"
   ]
  },
  {
   "cell_type": "code",
   "execution_count": null,
   "metadata": {
    "scrolled": true
   },
   "outputs": [],
   "source": [
    "drake_url_test1 = sp.track('0w1ZtnzQmtmuuoKxHT0pLL')\n",
    "drake_url_test1"
   ]
  },
  {
   "cell_type": "code",
   "execution_count": null,
   "metadata": {
    "scrolled": true
   },
   "outputs": [],
   "source": [
    "drake_url_test2 = sp.track('4HG1YiGBseVKzjyKcmAJen')\n",
    "drake_url_test2"
   ]
  },
  {
   "cell_type": "code",
   "execution_count": null,
   "metadata": {
    "scrolled": true
   },
   "outputs": [],
   "source": [
    "keys_list = list(drake_url_test1.keys())\n",
    "for key in keys_list:\n",
    "    print(key)\n",
    "    print(drake_url_test1[key], '\\n')"
   ]
  },
  {
   "cell_type": "code",
   "execution_count": null,
   "metadata": {},
   "outputs": [],
   "source": [
    "pd.set_option('display.max_colwidth', -1)\n",
    "pd.reset_option('display.max_rows')\n",
    "drake_url_test1_list = [drake_url_test1[key] for key in drake_url_test1.keys()]\n",
    "drake_url_test2_list = [drake_url_test2[key] for key in drake_url_test2.keys()]\n",
    "test_df = pd.DataFrame({'0w1ZtnzQmtmuuoKxHT0pLL':drake_url_test1_list, \n",
    "                        '4HG1YiGBseVKzjyKcmAJen':drake_url_test2_list},\n",
    "                       index=drake_url_test1.keys())\n",
    "test_df['Same val?'] = test_df['0w1ZtnzQmtmuuoKxHT0pLL']==test_df['4HG1YiGBseVKzjyKcmAJen']"
   ]
  },
  {
   "cell_type": "code",
   "execution_count": null,
   "metadata": {
    "scrolled": true
   },
   "outputs": [],
   "source": [
    "test_df"
   ]
  },
  {
   "cell_type": "code",
   "execution_count": null,
   "metadata": {},
   "outputs": [],
   "source": [
    "drake_url_test1['id'] == drake_url_test2['id']"
   ]
  },
  {
   "cell_type": "code",
   "execution_count": null,
   "metadata": {},
   "outputs": [],
   "source": [
    "drake_url_test1['href'] == drake_url_test2['href']"
   ]
  },
  {
   "cell_type": "code",
   "execution_count": null,
   "metadata": {},
   "outputs": [],
   "source": [
    "drake_url_test1['href']"
   ]
  },
  {
   "cell_type": "code",
   "execution_count": null,
   "metadata": {},
   "outputs": [],
   "source": [
    "drake_url_test1['external_urls'] == drake_url_test2['external_urls']"
   ]
  },
  {
   "cell_type": "code",
   "execution_count": null,
   "metadata": {},
   "outputs": [],
   "source": [
    "drake_url_test1['external_urls']"
   ]
  },
  {
   "cell_type": "code",
   "execution_count": null,
   "metadata": {},
   "outputs": [],
   "source": [
    "drake_url_test2['external_urls']"
   ]
  },
  {
   "cell_type": "code",
   "execution_count": null,
   "metadata": {},
   "outputs": [],
   "source": [
    "drake_url_test1['external_urls'] == drake_url_test2['external_urls']"
   ]
  }
 ],
 "metadata": {
  "kernelspec": {
   "display_name": "Python 3",
   "language": "python",
   "name": "python3"
  },
  "language_info": {
   "codemirror_mode": {
    "name": "ipython",
    "version": 3
   },
   "file_extension": ".py",
   "mimetype": "text/x-python",
   "name": "python",
   "nbconvert_exporter": "python",
   "pygments_lexer": "ipython3",
   "version": "3.7.3"
  }
 },
 "nbformat": 4,
 "nbformat_minor": 2
}
