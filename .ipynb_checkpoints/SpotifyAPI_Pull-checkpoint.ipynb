{
 "cells": [
  {
   "cell_type": "markdown",
   "metadata": {},
   "source": [
    "---\n",
    "## 0. Imports"
   ]
  },
  {
   "cell_type": "code",
   "execution_count": 1,
   "metadata": {},
   "outputs": [],
   "source": [
    "from bs4 import BeautifulSoup\n",
    "import http.client\n",
    "import urllib\n",
    "import os\n",
    "\n",
    "import pandas as pd\n",
    "import numpy as np\n",
    "import csv\n",
    "\n",
    "import dateutil.parser\n",
    "import datetime\n",
    "import sys\n",
    "\n",
    "import spotipy\n",
    "import spotipy.util"
   ]
  },
  {
   "cell_type": "code",
   "execution_count": 2,
   "metadata": {},
   "outputs": [],
   "source": [
    "filepath = ('./prev-chart-crawls'\n",
    "            + '/pull_D-2019-11-19_T-19-56-59-692877'\n",
    "            + '/Result_D-2019-11-19_T-19-56-59-693112_FrmD-2017-01-01_ToD-2019-11-18.csv')\n",
    "\n",
    "chartCrawl_df = pd.read_csv(filepath, index_col=0)\n",
    "chartCrawl_df['Date'] = pd.to_datetime(chartCrawl_df['Date'], yearfirst=True)"
   ]
  },
  {
   "cell_type": "markdown",
   "metadata": {},
   "source": [
    "---\n",
    "## 1. Spotify API"
   ]
  },
  {
   "cell_type": "markdown",
   "metadata": {},
   "source": [
    "### 1.1. Connection"
   ]
  },
  {
   "cell_type": "code",
   "execution_count": 3,
   "metadata": {},
   "outputs": [],
   "source": [
    "client_id = '987f8aab8f804962a2f19a86e310905c'\n",
    "client_secret = 'bdb457608ae84339ad7d3c41696cf10e'\n",
    "cred_manager = spotipy.util.oauth2.SpotifyClientCredentials(client_id, client_secret)"
   ]
  },
  {
   "cell_type": "code",
   "execution_count": 4,
   "metadata": {},
   "outputs": [],
   "source": [
    "sp = spotipy.Spotify(client_credentials_manager=cred_manager)"
   ]
  },
  {
   "cell_type": "markdown",
   "metadata": {},
   "source": [
    "### 1.2. Contents"
   ]
  },
  {
   "cell_type": "code",
   "execution_count": 5,
   "metadata": {},
   "outputs": [],
   "source": [
    "def gen_type_str(obj, r_pat=' '):\n",
    "    type_str = str(type(obj)).rpartition(r_pat)[2][:-1].replace('\\'', '').strip()\n",
    "    if isinstance(obj, str) and ('http' in obj):\n",
    "        return '(url str)'\n",
    "    else:\n",
    "        return '('+type_str+')'\n",
    "\n",
    "def print_dict_keys(print_arg, lvl=0, spc_mult=5, r_mrgn=50):\n",
    "    if isinstance(print_arg, list) and lvl==0:\n",
    "        print_arg = print_arg[0]\n",
    "    for key, item in print_arg.items():\n",
    "        indt_lvl = (spc_mult * lvl)\n",
    "        key_spacing = ' '*indt_lvl\n",
    "        type_spacing = ' '*(r_mrgn-len(key)-indt_lvl)\n",
    "        print(key_spacing, key, type_spacing, gen_type_str(item))\n",
    "        if isinstance(item, dict):\n",
    "            print_dict_keys(item, lvl+1)\n",
    "        else:\n",
    "            continue"
   ]
  },
  {
   "cell_type": "code",
   "execution_count": 6,
   "metadata": {
    "scrolled": true
   },
   "outputs": [
    {
     "name": "stdout",
     "output_type": "stream",
     "text": [
      "\n",
      " ____________________________TRACK DETAILS_____________________________ \n",
      "\n",
      " album                                               (dict)\n",
      "      album_type                                     (str)\n",
      "      artists                                        (list)\n",
      "      available_markets                              (list)\n",
      "      external_urls                                  (dict)\n",
      "           spotify                                   (url str)\n",
      "      href                                           (url str)\n",
      "      id                                             (str)\n",
      "      images                                         (list)\n",
      "      name                                           (str)\n",
      "      release_date                                   (str)\n",
      "      release_date_precision                         (str)\n",
      "      total_tracks                                   (int)\n",
      "      type                                           (str)\n",
      "      uri                                            (str)\n",
      " artists                                             (list)\n",
      " available_markets                                   (list)\n",
      " disc_number                                         (int)\n",
      " duration_ms                                         (int)\n",
      " explicit                                            (bool)\n",
      " external_ids                                        (dict)\n",
      "      isrc                                           (str)\n",
      " external_urls                                       (dict)\n",
      "      spotify                                        (url str)\n",
      " href                                                (url str)\n",
      " id                                                  (str)\n",
      " is_local                                            (bool)\n",
      " name                                                (str)\n",
      " popularity                                          (int)\n",
      " preview_url                                         (NoneType)\n",
      " track_number                                        (int)\n",
      " type                                                (str)\n",
      " uri                                                 (str)\n",
      "\n",
      " ____________________________AUDIO FEATURES____________________________ \n",
      "\n",
      " danceability                                        (float)\n",
      " energy                                              (float)\n",
      " key                                                 (int)\n",
      " loudness                                            (float)\n",
      " mode                                                (int)\n",
      " speechiness                                         (float)\n",
      " acousticness                                        (float)\n",
      " instrumentalness                                    (float)\n",
      " liveness                                            (float)\n",
      " valence                                             (float)\n",
      " tempo                                               (float)\n",
      " type                                                (str)\n",
      " id                                                  (str)\n",
      " uri                                                 (str)\n",
      " track_href                                          (url str)\n",
      " analysis_url                                        (url str)\n",
      " duration_ms                                         (int)\n",
      " time_signature                                      (int)\n",
      "\n",
      " ____________________________AUDIO ANALYSIS____________________________ \n",
      "\n",
      " meta                                                (dict)\n",
      "      analyzer_version                               (str)\n",
      "      platform                                       (str)\n",
      "      detailed_status                                (str)\n",
      "      status_code                                    (int)\n",
      "      timestamp                                      (int)\n",
      "      analysis_time                                  (float)\n",
      "      input_process                                  (str)\n",
      " track                                               (dict)\n",
      "      num_samples                                    (int)\n",
      "      duration                                       (float)\n",
      "      sample_md5                                     (str)\n",
      "      offset_seconds                                 (int)\n",
      "      window_seconds                                 (int)\n",
      "      analysis_sample_rate                           (int)\n",
      "      analysis_channels                              (int)\n",
      "      end_of_fade_in                                 (float)\n",
      "      start_of_fade_out                              (float)\n",
      "      loudness                                       (float)\n",
      "      tempo                                          (float)\n",
      "      tempo_confidence                               (float)\n",
      "      time_signature                                 (int)\n",
      "      time_signature_confidence                      (float)\n",
      "      key                                            (int)\n",
      "      key_confidence                                 (float)\n",
      "      mode                                           (int)\n",
      "      mode_confidence                                (float)\n",
      "      codestring                                     (str)\n",
      "      code_version                                   (float)\n",
      "      echoprintstring                                (str)\n",
      "      echoprint_version                              (float)\n",
      "      synchstring                                    (str)\n",
      "      synch_version                                  (float)\n",
      "      rhythmstring                                   (str)\n",
      "      rhythm_version                                 (float)\n",
      " bars                                                (list)\n",
      " beats                                               (list)\n",
      " tatums                                              (list)\n",
      " sections                                            (list)\n",
      " segments                                            (list)\n",
      "\n",
      " ____________________________ALBUM DETAILS_____________________________ \n",
      "\n",
      " album_type                                          (str)\n",
      " artists                                             (list)\n",
      " available_markets                                   (list)\n",
      " copyrights                                          (list)\n",
      " external_ids                                        (dict)\n",
      "      upc                                            (str)\n",
      " external_urls                                       (dict)\n",
      "      spotify                                        (url str)\n",
      " genres                                              (list)\n",
      " href                                                (url str)\n",
      " id                                                  (str)\n",
      " images                                              (list)\n",
      " label                                               (str)\n",
      " name                                                (str)\n",
      " popularity                                          (int)\n",
      " release_date                                        (str)\n",
      " release_date_precision                              (str)\n",
      " total_tracks                                        (int)\n",
      " tracks                                              (dict)\n",
      "      href                                           (url str)\n",
      "      items                                          (list)\n",
      "      limit                                          (int)\n",
      "      next                                           (NoneType)\n",
      "      offset                                         (int)\n",
      "      previous                                       (NoneType)\n",
      "      total                                          (int)\n",
      " type                                                (str)\n",
      " uri                                                 (str)\n"
     ]
    }
   ],
   "source": [
    "sf_track_id = '3JWiDGQX2eTlFvKj3Yssj3'\n",
    "sf_album_id = sp.track(sf_track_id)['album']['id']\n",
    "fmt_str = '{:_^70}'\n",
    "sp_api_dict = {\n",
    "    'TRACK DETAILS':[sp.track, sf_track_id],\n",
    "    'AUDIO FEATURES':[sp.audio_features, sf_track_id],\n",
    "    'AUDIO ANALYSIS':[sp.audio_analysis, sf_track_id],\n",
    "    'ALBUM DETAILS':[sp.album, sf_album_id],\n",
    "}\n",
    "for sp_name, sp_list in sp_api_dict.items():\n",
    "    print('\\n', fmt_str.format(sp_name), '\\n')\n",
    "    print_dict_keys(sp_list[0](sp_list[1]))"
   ]
  },
  {
   "cell_type": "markdown",
   "metadata": {},
   "source": [
    "---\n",
    "## 2. Helper Methods"
   ]
  },
  {
   "cell_type": "code",
   "execution_count": 7,
   "metadata": {},
   "outputs": [],
   "source": [
    "def gen_internalTrackId_df(chartCrawl_df_arg):\n",
    "    \"\"\"Returns a DataFrame containing all unique internal track ids.\"\"\"\n",
    "    interalId_srs = chartCrawl_df_arg['Spotify_URL'].str.rpartition('/')[2].unique()\n",
    "    return pd.DataFrame(interalId_srs, columns=['Internal Track ID'], dtype=str)"
   ]
  },
  {
   "cell_type": "code",
   "execution_count": 8,
   "metadata": {
    "scrolled": true
   },
   "outputs": [
    {
     "data": {
      "text/html": [
       "<div>\n",
       "<style scoped>\n",
       "    .dataframe tbody tr th:only-of-type {\n",
       "        vertical-align: middle;\n",
       "    }\n",
       "\n",
       "    .dataframe tbody tr th {\n",
       "        vertical-align: top;\n",
       "    }\n",
       "\n",
       "    .dataframe thead th {\n",
       "        text-align: right;\n",
       "    }\n",
       "</style>\n",
       "<table border=\"1\" class=\"dataframe\">\n",
       "  <thead>\n",
       "    <tr style=\"text-align: right;\">\n",
       "      <th></th>\n",
       "      <th>Internal Track ID</th>\n",
       "    </tr>\n",
       "  </thead>\n",
       "  <tbody>\n",
       "    <tr>\n",
       "      <th>0</th>\n",
       "      <td>4Km5HrUvYTaSUfiSGPJeQR</td>\n",
       "    </tr>\n",
       "    <tr>\n",
       "      <th>1</th>\n",
       "      <td>343YBumqHu19cGoGARUTsd</td>\n",
       "    </tr>\n",
       "    <tr>\n",
       "      <th>2</th>\n",
       "      <td>5aAx2yezTd8zXrkmtKl66Z</td>\n",
       "    </tr>\n",
       "    <tr>\n",
       "      <th>3</th>\n",
       "      <td>7BKLCZ1jbUBVqRi2FVlTVw</td>\n",
       "    </tr>\n",
       "    <tr>\n",
       "      <th>4</th>\n",
       "      <td>6fujklziTHa8uoM5OQSfIo</td>\n",
       "    </tr>\n",
       "    <tr>\n",
       "      <th>5</th>\n",
       "      <td>7yyRTcZmCiyzzJlNzGC9Ol</td>\n",
       "    </tr>\n",
       "    <tr>\n",
       "      <th>6</th>\n",
       "      <td>1xznGGDReH1oQq0xzbwXa3</td>\n",
       "    </tr>\n",
       "    <tr>\n",
       "      <th>7</th>\n",
       "      <td>7FB8l7UA1HKqnuSLjP9qDc</td>\n",
       "    </tr>\n",
       "    <tr>\n",
       "      <th>8</th>\n",
       "      <td>4pdPtRcBmOSQDlJ3Fk945m</td>\n",
       "    </tr>\n",
       "    <tr>\n",
       "      <th>9</th>\n",
       "      <td>0SGkqnVQo9KPytSri1H6cF</td>\n",
       "    </tr>\n",
       "    <tr>\n",
       "      <th>10</th>\n",
       "      <td>5GXAXm5YOmYT0kL5jHvYBt</td>\n",
       "    </tr>\n",
       "    <tr>\n",
       "      <th>11</th>\n",
       "      <td>6b8Be6ljOzmkOmFslEb23P</td>\n",
       "    </tr>\n",
       "    <tr>\n",
       "      <th>12</th>\n",
       "      <td>1PSBzsahR2AKwLJgx8ehBj</td>\n",
       "    </tr>\n",
       "    <tr>\n",
       "      <th>13</th>\n",
       "      <td>6fwdbPMwP1zVStm8FybmkO</td>\n",
       "    </tr>\n",
       "    <tr>\n",
       "      <th>14</th>\n",
       "      <td>3NdDpSvN911VPGivFlV5d0</td>\n",
       "    </tr>\n",
       "    <tr>\n",
       "      <th>15</th>\n",
       "      <td>5MFzQMkrl1FOOng9tq6R9r</td>\n",
       "    </tr>\n",
       "    <tr>\n",
       "      <th>16</th>\n",
       "      <td>5uDASfU19gDxSjW8cnCaBp</td>\n",
       "    </tr>\n",
       "    <tr>\n",
       "      <th>17</th>\n",
       "      <td>6I6NX6tjGsxFAsIfGzY9lJ</td>\n",
       "    </tr>\n",
       "    <tr>\n",
       "      <th>18</th>\n",
       "      <td>7JYsArznYOjX2jsrT3UEnL</td>\n",
       "    </tr>\n",
       "    <tr>\n",
       "      <th>19</th>\n",
       "      <td>4F7A0DXBrmUAkp32uenhZt</td>\n",
       "    </tr>\n",
       "    <tr>\n",
       "      <th>20</th>\n",
       "      <td>0v9Wz8o0BT8DU38R4ddjeH</td>\n",
       "    </tr>\n",
       "    <tr>\n",
       "      <th>21</th>\n",
       "      <td>4gmmRb6bZJffOOiww1JGTO</td>\n",
       "    </tr>\n",
       "    <tr>\n",
       "      <th>22</th>\n",
       "      <td>1qOLh0tI7trd1zdDKxYZTe</td>\n",
       "    </tr>\n",
       "    <tr>\n",
       "      <th>23</th>\n",
       "      <td>0QsvXIfqM0zZoerQfsI9lm</td>\n",
       "    </tr>\n",
       "    <tr>\n",
       "      <th>24</th>\n",
       "      <td>4pLwZjInHj3SimIyN9SnOz</td>\n",
       "    </tr>\n",
       "    <tr>\n",
       "      <th>25</th>\n",
       "      <td>4Hf7WnR761jpxPr5D46Bcd</td>\n",
       "    </tr>\n",
       "    <tr>\n",
       "      <th>26</th>\n",
       "      <td>04DwTuZ2VBdJCCC5TROn7L</td>\n",
       "    </tr>\n",
       "    <tr>\n",
       "      <th>27</th>\n",
       "      <td>4ckuS4Nj4FZ7i3Def3Br8W</td>\n",
       "    </tr>\n",
       "    <tr>\n",
       "      <th>28</th>\n",
       "      <td>6JV2JOEocMgcZxYSZelKcc</td>\n",
       "    </tr>\n",
       "    <tr>\n",
       "      <th>29</th>\n",
       "      <td>4tCtwWceOPWzenK2HAIJSb</td>\n",
       "    </tr>\n",
       "    <tr>\n",
       "      <th>...</th>\n",
       "      <td>...</td>\n",
       "    </tr>\n",
       "    <tr>\n",
       "      <th>5296</th>\n",
       "      <td>3hBXvHLlTHvnbwrPbeoyAj</td>\n",
       "    </tr>\n",
       "    <tr>\n",
       "      <th>5297</th>\n",
       "      <td>63VyEdzMM3w4ZQ1WtARa2S</td>\n",
       "    </tr>\n",
       "    <tr>\n",
       "      <th>5298</th>\n",
       "      <td>4TnjEaWOeW0eKTKIEvJyCa</td>\n",
       "    </tr>\n",
       "    <tr>\n",
       "      <th>5299</th>\n",
       "      <td>3i9UVldZOE0aD0JnyfAZZ0</td>\n",
       "    </tr>\n",
       "    <tr>\n",
       "      <th>5300</th>\n",
       "      <td>6YfTl5YupXOQBKiJJLrxcw</td>\n",
       "    </tr>\n",
       "    <tr>\n",
       "      <th>5301</th>\n",
       "      <td>3ZCTVFBt2Brf31RLEnCkWJ</td>\n",
       "    </tr>\n",
       "    <tr>\n",
       "      <th>5302</th>\n",
       "      <td>1cL3ucXzG2hj3XOUPIWdvZ</td>\n",
       "    </tr>\n",
       "    <tr>\n",
       "      <th>5303</th>\n",
       "      <td>3GRSqlALWISqLeNncZMbpX</td>\n",
       "    </tr>\n",
       "    <tr>\n",
       "      <th>5304</th>\n",
       "      <td>4wopYJ5wpYOM6ogm2Jugnw</td>\n",
       "    </tr>\n",
       "    <tr>\n",
       "      <th>5305</th>\n",
       "      <td>696DnlkuDOXcMAnKlTgXXK</td>\n",
       "    </tr>\n",
       "    <tr>\n",
       "      <th>5306</th>\n",
       "      <td>364spZLB5bhNlnPrzvUB41</td>\n",
       "    </tr>\n",
       "    <tr>\n",
       "      <th>5307</th>\n",
       "      <td>6JsHgIkMYHcbNtKfsal2Mg</td>\n",
       "    </tr>\n",
       "    <tr>\n",
       "      <th>5308</th>\n",
       "      <td>2W4yABdLc4Jnds67Poi5Nl</td>\n",
       "    </tr>\n",
       "    <tr>\n",
       "      <th>5309</th>\n",
       "      <td>1mpD5Q8IM32I4bF6eCpU74</td>\n",
       "    </tr>\n",
       "    <tr>\n",
       "      <th>5310</th>\n",
       "      <td>7jzldCBnJjpJM3epzJ85KE</td>\n",
       "    </tr>\n",
       "    <tr>\n",
       "      <th>5311</th>\n",
       "      <td>1nal3Tf1OCV53KigMZXsZ7</td>\n",
       "    </tr>\n",
       "    <tr>\n",
       "      <th>5312</th>\n",
       "      <td>0BpYTh0O2ut5wvt0QtDGt4</td>\n",
       "    </tr>\n",
       "    <tr>\n",
       "      <th>5313</th>\n",
       "      <td>1jg9clsGCDqOumfS0X5xm9</td>\n",
       "    </tr>\n",
       "    <tr>\n",
       "      <th>5314</th>\n",
       "      <td>0Odu228D0yGcFySGuxU4rY</td>\n",
       "    </tr>\n",
       "    <tr>\n",
       "      <th>5315</th>\n",
       "      <td>1nwsxV3FiYC3SJD9OfcVfF</td>\n",
       "    </tr>\n",
       "    <tr>\n",
       "      <th>5316</th>\n",
       "      <td>3AHqaOkEFKZ6zEHdiplIv7</td>\n",
       "    </tr>\n",
       "    <tr>\n",
       "      <th>5317</th>\n",
       "      <td>2rc7BkzO8qepMFAxHtOrXc</td>\n",
       "    </tr>\n",
       "    <tr>\n",
       "      <th>5318</th>\n",
       "      <td>1wTH87zcNcR4vn1iJLDv0c</td>\n",
       "    </tr>\n",
       "    <tr>\n",
       "      <th>5319</th>\n",
       "      <td>74a9iiRlyYXgwjSrntULcv</td>\n",
       "    </tr>\n",
       "    <tr>\n",
       "      <th>5320</th>\n",
       "      <td>2DcZd7oFgctIJZG5pFncyD</td>\n",
       "    </tr>\n",
       "    <tr>\n",
       "      <th>5321</th>\n",
       "      <td>3RFT4wk8sMnr5XhkxYJrW2</td>\n",
       "    </tr>\n",
       "    <tr>\n",
       "      <th>5322</th>\n",
       "      <td>6RyaV7owmVU6fzEPE17sF1</td>\n",
       "    </tr>\n",
       "    <tr>\n",
       "      <th>5323</th>\n",
       "      <td>1e9oZCCiX42nJl0AcqriVo</td>\n",
       "    </tr>\n",
       "    <tr>\n",
       "      <th>5324</th>\n",
       "      <td>4kKdvXD0ez7jp1296JmAts</td>\n",
       "    </tr>\n",
       "    <tr>\n",
       "      <th>5325</th>\n",
       "      <td>6qL5UWxRSQYml9O99ozoLv</td>\n",
       "    </tr>\n",
       "  </tbody>\n",
       "</table>\n",
       "<p>5326 rows × 1 columns</p>\n",
       "</div>"
      ],
      "text/plain": [
       "           Internal Track ID\n",
       "0     4Km5HrUvYTaSUfiSGPJeQR\n",
       "1     343YBumqHu19cGoGARUTsd\n",
       "2     5aAx2yezTd8zXrkmtKl66Z\n",
       "3     7BKLCZ1jbUBVqRi2FVlTVw\n",
       "4     6fujklziTHa8uoM5OQSfIo\n",
       "5     7yyRTcZmCiyzzJlNzGC9Ol\n",
       "6     1xznGGDReH1oQq0xzbwXa3\n",
       "7     7FB8l7UA1HKqnuSLjP9qDc\n",
       "8     4pdPtRcBmOSQDlJ3Fk945m\n",
       "9     0SGkqnVQo9KPytSri1H6cF\n",
       "10    5GXAXm5YOmYT0kL5jHvYBt\n",
       "11    6b8Be6ljOzmkOmFslEb23P\n",
       "12    1PSBzsahR2AKwLJgx8ehBj\n",
       "13    6fwdbPMwP1zVStm8FybmkO\n",
       "14    3NdDpSvN911VPGivFlV5d0\n",
       "15    5MFzQMkrl1FOOng9tq6R9r\n",
       "16    5uDASfU19gDxSjW8cnCaBp\n",
       "17    6I6NX6tjGsxFAsIfGzY9lJ\n",
       "18    7JYsArznYOjX2jsrT3UEnL\n",
       "19    4F7A0DXBrmUAkp32uenhZt\n",
       "20    0v9Wz8o0BT8DU38R4ddjeH\n",
       "21    4gmmRb6bZJffOOiww1JGTO\n",
       "22    1qOLh0tI7trd1zdDKxYZTe\n",
       "23    0QsvXIfqM0zZoerQfsI9lm\n",
       "24    4pLwZjInHj3SimIyN9SnOz\n",
       "25    4Hf7WnR761jpxPr5D46Bcd\n",
       "26    04DwTuZ2VBdJCCC5TROn7L\n",
       "27    4ckuS4Nj4FZ7i3Def3Br8W\n",
       "28    6JV2JOEocMgcZxYSZelKcc\n",
       "29    4tCtwWceOPWzenK2HAIJSb\n",
       "...                      ...\n",
       "5296  3hBXvHLlTHvnbwrPbeoyAj\n",
       "5297  63VyEdzMM3w4ZQ1WtARa2S\n",
       "5298  4TnjEaWOeW0eKTKIEvJyCa\n",
       "5299  3i9UVldZOE0aD0JnyfAZZ0\n",
       "5300  6YfTl5YupXOQBKiJJLrxcw\n",
       "5301  3ZCTVFBt2Brf31RLEnCkWJ\n",
       "5302  1cL3ucXzG2hj3XOUPIWdvZ\n",
       "5303  3GRSqlALWISqLeNncZMbpX\n",
       "5304  4wopYJ5wpYOM6ogm2Jugnw\n",
       "5305  696DnlkuDOXcMAnKlTgXXK\n",
       "5306  364spZLB5bhNlnPrzvUB41\n",
       "5307  6JsHgIkMYHcbNtKfsal2Mg\n",
       "5308  2W4yABdLc4Jnds67Poi5Nl\n",
       "5309  1mpD5Q8IM32I4bF6eCpU74\n",
       "5310  7jzldCBnJjpJM3epzJ85KE\n",
       "5311  1nal3Tf1OCV53KigMZXsZ7\n",
       "5312  0BpYTh0O2ut5wvt0QtDGt4\n",
       "5313  1jg9clsGCDqOumfS0X5xm9\n",
       "5314  0Odu228D0yGcFySGuxU4rY\n",
       "5315  1nwsxV3FiYC3SJD9OfcVfF\n",
       "5316  3AHqaOkEFKZ6zEHdiplIv7\n",
       "5317  2rc7BkzO8qepMFAxHtOrXc\n",
       "5318  1wTH87zcNcR4vn1iJLDv0c\n",
       "5319  74a9iiRlyYXgwjSrntULcv\n",
       "5320  2DcZd7oFgctIJZG5pFncyD\n",
       "5321  3RFT4wk8sMnr5XhkxYJrW2\n",
       "5322  6RyaV7owmVU6fzEPE17sF1\n",
       "5323  1e9oZCCiX42nJl0AcqriVo\n",
       "5324  4kKdvXD0ez7jp1296JmAts\n",
       "5325  6qL5UWxRSQYml9O99ozoLv\n",
       "\n",
       "[5326 rows x 1 columns]"
      ]
     },
     "execution_count": 8,
     "metadata": {},
     "output_type": "execute_result"
    }
   ],
   "source": [
    "internalTrackId_df = gen_internalTrackId_df(chartCrawl_df)\n",
    "internalTrackId_df"
   ]
  },
  {
   "cell_type": "markdown",
   "metadata": {},
   "source": [
    "---\n",
    "## 3. API Methods"
   ]
  },
  {
   "cell_type": "code",
   "execution_count": 9,
   "metadata": {},
   "outputs": [],
   "source": [
    "def get_details(unq_id_row):\n",
    "    spotify_id = unq_id_row['Spotify_ID']\n",
    "    details_dict = sp.track(spotify_id)\n",
    "    return {'Spotify_ID':internalTrackId, 'Track Details Obj':trackDetails_dict}"
   ]
  },
  {
   "cell_type": "code",
   "execution_count": 10,
   "metadata": {},
   "outputs": [],
   "source": [
    "def get_features(unq_id_row):\n",
    "    spotify_id = unq_id_row['Spotify_ID']\n",
    "    features_list = sp.audio_features(spotify_id)\n",
    "    features_dict = features_list[0]\n",
    "    return {'Spotify_ID':spotify_id, 'Audio Features Obj':features_dict}"
   ]
  },
  {
   "cell_type": "code",
   "execution_count": 11,
   "metadata": {},
   "outputs": [],
   "source": [
    "def get_audioAnalysis(internalTrackId_row):\n",
    "    internalTrackId = internalTrackId_row['Spotify_ID']\n",
    "    audioAnalysis_list = sp.audio_analysis(internalTrackId)\n",
    "    audioAnalysis_dict = audioAnalysis_list['track']\n",
    "    return {'Spotify_ID':internalTrackId, 'Audio Analysis Obj':audioAnalysis_dict}"
   ]
  },
  {
   "cell_type": "code",
   "execution_count": 12,
   "metadata": {},
   "outputs": [],
   "source": [
    "def gen_trackInfo_df(unq_id_df,\n",
    "                     get_track_details=False,\n",
    "                     get_audio_features=False,\n",
    "                     get_audio_analysis=False):\n",
    "    \"\"\"Returns and saves to csv the pd.DataFrames of track details.\"\"\"\n",
    "    trackDetails_df = unq_id_df.apply(get_trackDetails, \n",
    "                                        axis=1, \n",
    "                                        result_type='expand') if get_track_details else None\n",
    "    \n",
    "    audioFeatures_df = unq_id_df.apply(get_audioFeatures, \n",
    "                                         axis=1, \n",
    "                                         result_type='expand') if get_audio_features else None\n",
    "    \n",
    "    audioAnalysis_df = unq_id_df.apply(get_audioAnalysis, \n",
    "                                         axis=1, \n",
    "                                         result_type='expand') if get_audio_analysis else None\n",
    "    \n",
    "    return (trackDetails_df, audioFeatures_df, audioAnalysis_df)"
   ]
  },
  {
   "cell_type": "code",
   "execution_count": 13,
   "metadata": {},
   "outputs": [],
   "source": [
    "def get_newest_dirpath(data_dirpath):\n",
    "    dir_contents = [d for d in os.listdir(data_dirpath) if d.startswith('D-')]\n",
    "    dir_contents.sort(reverse = True)\n",
    "    dir_name = dir_contents[0]\n",
    "    return os.path.join(data_dirpath, dir_name)"
   ]
  },
  {
   "cell_type": "code",
   "execution_count": 14,
   "metadata": {},
   "outputs": [],
   "source": [
    "def pull_api_data(\n",
    "    pull_dirpath=None,\n",
    "    in_csv_file=False,\n",
    "    get_details=False,\n",
    "    get_features=False,\n",
    "    get_analysis=False):\n",
    "    \n",
    "    pull_dirpath = get_newest_dirpath('./data') if (pull_dirpath is None) else pull_dirpath\n",
    "    \n",
    "    results_filepath = [d for d in os.listdir(pull_dirpath) if d.startswith('Result')][0]\n",
    "    charts_df = pd.read_csv(os.path.join(pull_dirpath, results_filepath), index_col=0)\n",
    "    \n",
    "    unq_id_df = pd.DataFrame({'Spotify_ID':charts_df['Spotify_ID'].unique()})\n",
    "    \n",
    "    info_dfs_tup = gen_trackInfo_df(unq_id_df, get_details, get_features, get_analysis)\n",
    "    \n",
    "    return info_dfs_tup\n",
    "\n"
   ]
  },
  {
   "cell_type": "code",
   "execution_count": 15,
   "metadata": {},
   "outputs": [
    {
     "data": {
      "text/plain": [
       "(                 Spotify_ID                                  Track Details Obj\n",
       " 0    4Km5HrUvYTaSUfiSGPJeQR  {'album': {'album_type': 'album', 'artists': [...\n",
       " 1    343YBumqHu19cGoGARUTsd  {'album': {'album_type': 'album', 'artists': [...\n",
       " 2    5aAx2yezTd8zXrkmtKl66Z  {'album': {'album_type': 'album', 'artists': [...\n",
       " 3    7BKLCZ1jbUBVqRi2FVlTVw  {'album': {'album_type': 'single', 'artists': ...\n",
       " 4    6fujklziTHa8uoM5OQSfIo  {'album': {'album_type': 'album', 'artists': [...\n",
       " 5    7yyRTcZmCiyzzJlNzGC9Ol  {'album': {'album_type': 'album', 'artists': [...\n",
       " 6    1xznGGDReH1oQq0xzbwXa3  {'album': {'album_type': 'album', 'artists': [...\n",
       " 7    7FB8l7UA1HKqnuSLjP9qDc  {'album': {'album_type': 'album', 'artists': [...\n",
       " 8    4pdPtRcBmOSQDlJ3Fk945m  {'album': {'album_type': 'album', 'artists': [...\n",
       " 9    0SGkqnVQo9KPytSri1H6cF  {'album': {'album_type': 'album', 'artists': [...\n",
       " 10   5GXAXm5YOmYT0kL5jHvYBt  {'album': {'album_type': 'album', 'artists': [...\n",
       " 11   6b8Be6ljOzmkOmFslEb23P  {'album': {'album_type': 'album', 'artists': [...\n",
       " 12   1PSBzsahR2AKwLJgx8ehBj  {'album': {'album_type': 'album', 'artists': [...\n",
       " 13   6fwdbPMwP1zVStm8FybmkO  {'album': {'album_type': 'album', 'artists': [...\n",
       " 14   3NdDpSvN911VPGivFlV5d0  {'album': {'album_type': 'single', 'artists': ...\n",
       " 15   5MFzQMkrl1FOOng9tq6R9r  {'album': {'album_type': 'single', 'artists': ...\n",
       " 16   5uDASfU19gDxSjW8cnCaBp  {'album': {'album_type': 'single', 'artists': ...\n",
       " 17   6I6NX6tjGsxFAsIfGzY9lJ  {'album': {'album_type': 'album', 'artists': [...\n",
       " 18   7JYsArznYOjX2jsrT3UEnL  {'album': {'album_type': 'album', 'artists': [...\n",
       " 19   4F7A0DXBrmUAkp32uenhZt  {'album': {'album_type': 'album', 'artists': [...\n",
       " 20   0v9Wz8o0BT8DU38R4ddjeH  {'album': {'album_type': 'album', 'artists': [...\n",
       " 21   4gmmRb6bZJffOOiww1JGTO  {'album': {'album_type': 'album', 'artists': [...\n",
       " 22   1qOLh0tI7trd1zdDKxYZTe  {'album': {'album_type': 'single', 'artists': ...\n",
       " 23   0QsvXIfqM0zZoerQfsI9lm  {'album': {'album_type': 'album', 'artists': [...\n",
       " 24   4pLwZjInHj3SimIyN9SnOz  {'album': {'album_type': 'album', 'artists': [...\n",
       " 25   4Hf7WnR761jpxPr5D46Bcd  {'album': {'album_type': 'album', 'artists': [...\n",
       " 26   04DwTuZ2VBdJCCC5TROn7L  {'album': {'album_type': 'compilation', 'artis...\n",
       " 27   4ckuS4Nj4FZ7i3Def3Br8W  {'album': {'album_type': 'single', 'artists': ...\n",
       " 28   6JV2JOEocMgcZxYSZelKcc  {'album': {'album_type': 'single', 'artists': ...\n",
       " 29   4tCtwWceOPWzenK2HAIJSb  {'album': {'album_type': 'album', 'artists': [...\n",
       " ..                      ...                                                ...\n",
       " 223  5Z01UMMf7V1o0MzF86s6WJ  {'album': {'album_type': 'compilation', 'artis...\n",
       " 224  26hcyzSE154xMZCbFdtInA  {'album': {'album_type': 'single', 'artists': ...\n",
       " 225  7lGKEWMXVWWTt3X71Bv44I  {'album': {'album_type': 'album', 'artists': [...\n",
       " 226  1BECwm5qkaBwlbfo4kpYx8  {'album': {'album_type': 'album', 'artists': [...\n",
       " 227  6Ius4TC0L3cN74HT7ENE6e  {'album': {'album_type': 'album', 'artists': [...\n",
       " 228  13HVjjWUZFaWilh2QUJKsP  {'album': {'album_type': 'album', 'artists': [...\n",
       " 229  3NxAG2ni1lLa8RKL6a0INc  {'album': {'album_type': 'album', 'artists': [...\n",
       " 230  3eze1OsZ1rqeXkKStNfTmi  {'album': {'album_type': 'album', 'artists': [...\n",
       " 231  7of1slAJIWrXxP8ikAHxje  {'album': {'album_type': 'single', 'artists': ...\n",
       " 232  152lZdxL1OR0ZMW6KquMif  {'album': {'album_type': 'album', 'artists': [...\n",
       " 233  5rmcjZTrE9JR1YrbNZDFNW  {'album': {'album_type': 'album', 'artists': [...\n",
       " 234  6sDQ4uiWw9OdVrCXFLSlZt  {'album': {'album_type': 'album', 'artists': [...\n",
       " 235  0BCy325UZyR9z0t0uxwn2N  {'album': {'album_type': 'album', 'artists': [...\n",
       " 236  6t2ubAB4iSYOuIpRAOGd4t  {'album': {'album_type': 'compilation', 'artis...\n",
       " 237  2IGr3q6ljcpLvHDFLtI0yW  {'album': {'album_type': 'album', 'artists': [...\n",
       " 238  7lsYGc5H5DHktxO7gbB8bN  {'album': {'album_type': 'album', 'artists': [...\n",
       " 239  6cAKeFFYW2aClZSUyvqAEW  {'album': {'album_type': 'album', 'artists': [...\n",
       " 240  0kN8xEmgMW9mh7UmDYHlJP  {'album': {'album_type': 'album', 'artists': [...\n",
       " 241  4sPmO7WMQUAf45kwMOtONw  {'album': {'album_type': 'album', 'artists': [...\n",
       " 242  1wIQtB3UQ1TfjNMZZqO6eh  {'album': {'album_type': 'single', 'artists': ...\n",
       " 243  4qqArAiTPueDxIp7cf87h7  {'album': {'album_type': 'single', 'artists': ...\n",
       " 244  5hTpBe8h35rJ67eAWHQsJx  {'album': {'album_type': 'album', 'artists': [...\n",
       " 245  59e7E2LMPZ2bhW5G6aCwX8  {'album': {'album_type': 'album', 'artists': [...\n",
       " 246  0rHJxNaQRMGK6Y4TUx3xRO  {'album': {'album_type': 'album', 'artists': [...\n",
       " 247  5GFDrUTLGJix84sNhjCG0g  {'album': {'album_type': 'single', 'artists': ...\n",
       " 248  43jBqV3j3Xi1g6wO0bhIMd  {'album': {'album_type': 'single', 'artists': ...\n",
       " 249  1yNyoWWWikbLhwIGWjZuDW  {'album': {'album_type': 'single', 'artists': ...\n",
       " 250  3TRFq09DUgYj1mug6RRqJW  {'album': {'album_type': 'single', 'artists': ...\n",
       " 251  0WCEaydwN65cvwaW8aqptF  {'album': {'album_type': 'single', 'artists': ...\n",
       " 252  4qdgv45EPcQqpQ08tF34f8  {'album': {'album_type': 'album', 'artists': [...\n",
       " \n",
       " [253 rows x 2 columns], None, None)"
      ]
     },
     "execution_count": 15,
     "metadata": {},
     "output_type": "execute_result"
    }
   ],
   "source": [
    "pull_api_data(\n",
    "    pull_dirpath=None,\n",
    "    in_csv_file=False,\n",
    "    get_details=True,\n",
    "    get_features=False,\n",
    "    get_analysis=False)"
   ]
  },
  {
   "cell_type": "code",
   "execution_count": 16,
   "metadata": {},
   "outputs": [
    {
     "name": "stdout",
     "output_type": "stream",
     "text": [
      "retrying ...1secs\n"
     ]
    },
    {
     "data": {
      "text/plain": [
       "(                 Spotify_ID                                  Track Details Obj\n",
       " 0    4Km5HrUvYTaSUfiSGPJeQR  {'album': {'album_type': 'album', 'artists': [...\n",
       " 1    343YBumqHu19cGoGARUTsd  {'album': {'album_type': 'album', 'artists': [...\n",
       " 2    5aAx2yezTd8zXrkmtKl66Z  {'album': {'album_type': 'album', 'artists': [...\n",
       " 3    7BKLCZ1jbUBVqRi2FVlTVw  {'album': {'album_type': 'single', 'artists': ...\n",
       " 4    6fujklziTHa8uoM5OQSfIo  {'album': {'album_type': 'album', 'artists': [...\n",
       " 5    7yyRTcZmCiyzzJlNzGC9Ol  {'album': {'album_type': 'album', 'artists': [...\n",
       " 6    1xznGGDReH1oQq0xzbwXa3  {'album': {'album_type': 'album', 'artists': [...\n",
       " 7    7FB8l7UA1HKqnuSLjP9qDc  {'album': {'album_type': 'album', 'artists': [...\n",
       " 8    4pdPtRcBmOSQDlJ3Fk945m  {'album': {'album_type': 'album', 'artists': [...\n",
       " 9    0SGkqnVQo9KPytSri1H6cF  {'album': {'album_type': 'album', 'artists': [...\n",
       " 10   5GXAXm5YOmYT0kL5jHvYBt  {'album': {'album_type': 'album', 'artists': [...\n",
       " 11   6b8Be6ljOzmkOmFslEb23P  {'album': {'album_type': 'album', 'artists': [...\n",
       " 12   1PSBzsahR2AKwLJgx8ehBj  {'album': {'album_type': 'album', 'artists': [...\n",
       " 13   6fwdbPMwP1zVStm8FybmkO  {'album': {'album_type': 'album', 'artists': [...\n",
       " 14   3NdDpSvN911VPGivFlV5d0  {'album': {'album_type': 'single', 'artists': ...\n",
       " 15   5MFzQMkrl1FOOng9tq6R9r  {'album': {'album_type': 'single', 'artists': ...\n",
       " 16   5uDASfU19gDxSjW8cnCaBp  {'album': {'album_type': 'single', 'artists': ...\n",
       " 17   6I6NX6tjGsxFAsIfGzY9lJ  {'album': {'album_type': 'album', 'artists': [...\n",
       " 18   7JYsArznYOjX2jsrT3UEnL  {'album': {'album_type': 'album', 'artists': [...\n",
       " 19   4F7A0DXBrmUAkp32uenhZt  {'album': {'album_type': 'album', 'artists': [...\n",
       " 20   0v9Wz8o0BT8DU38R4ddjeH  {'album': {'album_type': 'album', 'artists': [...\n",
       " 21   4gmmRb6bZJffOOiww1JGTO  {'album': {'album_type': 'album', 'artists': [...\n",
       " 22   1qOLh0tI7trd1zdDKxYZTe  {'album': {'album_type': 'single', 'artists': ...\n",
       " 23   0QsvXIfqM0zZoerQfsI9lm  {'album': {'album_type': 'album', 'artists': [...\n",
       " 24   4pLwZjInHj3SimIyN9SnOz  {'album': {'album_type': 'album', 'artists': [...\n",
       " 25   4Hf7WnR761jpxPr5D46Bcd  {'album': {'album_type': 'album', 'artists': [...\n",
       " 26   04DwTuZ2VBdJCCC5TROn7L  {'album': {'album_type': 'compilation', 'artis...\n",
       " 27   4ckuS4Nj4FZ7i3Def3Br8W  {'album': {'album_type': 'single', 'artists': ...\n",
       " 28   6JV2JOEocMgcZxYSZelKcc  {'album': {'album_type': 'single', 'artists': ...\n",
       " 29   4tCtwWceOPWzenK2HAIJSb  {'album': {'album_type': 'album', 'artists': [...\n",
       " ..                      ...                                                ...\n",
       " 223  5Z01UMMf7V1o0MzF86s6WJ  {'album': {'album_type': 'compilation', 'artis...\n",
       " 224  26hcyzSE154xMZCbFdtInA  {'album': {'album_type': 'single', 'artists': ...\n",
       " 225  7lGKEWMXVWWTt3X71Bv44I  {'album': {'album_type': 'album', 'artists': [...\n",
       " 226  1BECwm5qkaBwlbfo4kpYx8  {'album': {'album_type': 'album', 'artists': [...\n",
       " 227  6Ius4TC0L3cN74HT7ENE6e  {'album': {'album_type': 'album', 'artists': [...\n",
       " 228  13HVjjWUZFaWilh2QUJKsP  {'album': {'album_type': 'album', 'artists': [...\n",
       " 229  3NxAG2ni1lLa8RKL6a0INc  {'album': {'album_type': 'album', 'artists': [...\n",
       " 230  3eze1OsZ1rqeXkKStNfTmi  {'album': {'album_type': 'album', 'artists': [...\n",
       " 231  7of1slAJIWrXxP8ikAHxje  {'album': {'album_type': 'single', 'artists': ...\n",
       " 232  152lZdxL1OR0ZMW6KquMif  {'album': {'album_type': 'album', 'artists': [...\n",
       " 233  5rmcjZTrE9JR1YrbNZDFNW  {'album': {'album_type': 'album', 'artists': [...\n",
       " 234  6sDQ4uiWw9OdVrCXFLSlZt  {'album': {'album_type': 'album', 'artists': [...\n",
       " 235  0BCy325UZyR9z0t0uxwn2N  {'album': {'album_type': 'album', 'artists': [...\n",
       " 236  6t2ubAB4iSYOuIpRAOGd4t  {'album': {'album_type': 'compilation', 'artis...\n",
       " 237  2IGr3q6ljcpLvHDFLtI0yW  {'album': {'album_type': 'album', 'artists': [...\n",
       " 238  7lsYGc5H5DHktxO7gbB8bN  {'album': {'album_type': 'album', 'artists': [...\n",
       " 239  6cAKeFFYW2aClZSUyvqAEW  {'album': {'album_type': 'album', 'artists': [...\n",
       " 240  0kN8xEmgMW9mh7UmDYHlJP  {'album': {'album_type': 'album', 'artists': [...\n",
       " 241  4sPmO7WMQUAf45kwMOtONw  {'album': {'album_type': 'album', 'artists': [...\n",
       " 242  1wIQtB3UQ1TfjNMZZqO6eh  {'album': {'album_type': 'single', 'artists': ...\n",
       " 243  4qqArAiTPueDxIp7cf87h7  {'album': {'album_type': 'single', 'artists': ...\n",
       " 244  5hTpBe8h35rJ67eAWHQsJx  {'album': {'album_type': 'album', 'artists': [...\n",
       " 245  59e7E2LMPZ2bhW5G6aCwX8  {'album': {'album_type': 'album', 'artists': [...\n",
       " 246  0rHJxNaQRMGK6Y4TUx3xRO  {'album': {'album_type': 'album', 'artists': [...\n",
       " 247  5GFDrUTLGJix84sNhjCG0g  {'album': {'album_type': 'single', 'artists': ...\n",
       " 248  43jBqV3j3Xi1g6wO0bhIMd  {'album': {'album_type': 'single', 'artists': ...\n",
       " 249  1yNyoWWWikbLhwIGWjZuDW  {'album': {'album_type': 'single', 'artists': ...\n",
       " 250  3TRFq09DUgYj1mug6RRqJW  {'album': {'album_type': 'single', 'artists': ...\n",
       " 251  0WCEaydwN65cvwaW8aqptF  {'album': {'album_type': 'single', 'artists': ...\n",
       " 252  4qdgv45EPcQqpQ08tF34f8  {'album': {'album_type': 'album', 'artists': [...\n",
       " \n",
       " [253 rows x 2 columns], None, None)"
      ]
     },
     "execution_count": 16,
     "metadata": {},
     "output_type": "execute_result"
    }
   ],
   "source": [
    "api_tup = pull_api_data(\n",
    "    pull_dirpath=None,\n",
    "    in_csv_file=False,\n",
    "    get_details=True,\n",
    "    get_features=False,\n",
    "    get_analysis=False)\n",
    "\n",
    "api_tup"
   ]
  },
  {
   "cell_type": "markdown",
   "metadata": {},
   "source": [
    "---\n",
    "## ... Testing"
   ]
  },
  {
   "cell_type": "code",
   "execution_count": 17,
   "metadata": {},
   "outputs": [
    {
     "ename": "KeyError",
     "evalue": "('Spotify_ID', 'occurred at index 1')",
     "output_type": "error",
     "traceback": [
      "\u001b[0;31m---------------------------------------------------------------------------\u001b[0m",
      "\u001b[0;31mTypeError\u001b[0m                                 Traceback (most recent call last)",
      "\u001b[0;32m~/anaconda3/lib/python3.7/site-packages/pandas/core/indexes/base.py\u001b[0m in \u001b[0;36mget_value\u001b[0;34m(self, series, key)\u001b[0m\n\u001b[1;32m   4380\u001b[0m             \u001b[0;32mtry\u001b[0m\u001b[0;34m:\u001b[0m\u001b[0;34m\u001b[0m\u001b[0;34m\u001b[0m\u001b[0m\n\u001b[0;32m-> 4381\u001b[0;31m                 \u001b[0;32mreturn\u001b[0m \u001b[0mlibindex\u001b[0m\u001b[0;34m.\u001b[0m\u001b[0mget_value_box\u001b[0m\u001b[0;34m(\u001b[0m\u001b[0ms\u001b[0m\u001b[0;34m,\u001b[0m \u001b[0mkey\u001b[0m\u001b[0;34m)\u001b[0m\u001b[0;34m\u001b[0m\u001b[0;34m\u001b[0m\u001b[0m\n\u001b[0m\u001b[1;32m   4382\u001b[0m             \u001b[0;32mexcept\u001b[0m \u001b[0mIndexError\u001b[0m\u001b[0;34m:\u001b[0m\u001b[0;34m\u001b[0m\u001b[0;34m\u001b[0m\u001b[0m\n",
      "\u001b[0;32mpandas/_libs/index.pyx\u001b[0m in \u001b[0;36mpandas._libs.index.get_value_box\u001b[0;34m()\u001b[0m\n",
      "\u001b[0;32mpandas/_libs/index.pyx\u001b[0m in \u001b[0;36mpandas._libs.index.get_value_at\u001b[0;34m()\u001b[0m\n",
      "\u001b[0;32mpandas/_libs/util.pxd\u001b[0m in \u001b[0;36mpandas._libs.util.get_value_at\u001b[0;34m()\u001b[0m\n",
      "\u001b[0;32mpandas/_libs/util.pxd\u001b[0m in \u001b[0;36mpandas._libs.util.validate_indexer\u001b[0;34m()\u001b[0m\n",
      "\u001b[0;31mTypeError\u001b[0m: 'str' object cannot be interpreted as an integer",
      "\nDuring handling of the above exception, another exception occurred:\n",
      "\u001b[0;31mKeyError\u001b[0m                                  Traceback (most recent call last)",
      "\u001b[0;32m<ipython-input-17-8467790c167d>\u001b[0m in \u001b[0;36m<module>\u001b[0;34m\u001b[0m\n\u001b[1;32m      2\u001b[0m                                  \u001b[0mget_track_details\u001b[0m\u001b[0;34m=\u001b[0m\u001b[0;32mTrue\u001b[0m\u001b[0;34m,\u001b[0m\u001b[0;34m\u001b[0m\u001b[0;34m\u001b[0m\u001b[0m\n\u001b[1;32m      3\u001b[0m                                  \u001b[0mget_audio_features\u001b[0m\u001b[0;34m=\u001b[0m\u001b[0;32mTrue\u001b[0m\u001b[0;34m,\u001b[0m\u001b[0;34m\u001b[0m\u001b[0;34m\u001b[0m\u001b[0m\n\u001b[0;32m----> 4\u001b[0;31m                                  get_audio_analysis=False)\n\u001b[0m",
      "\u001b[0;32m<ipython-input-12-ed8fb4a0f311>\u001b[0m in \u001b[0;36mgen_trackInfo_df\u001b[0;34m(unq_id_df, get_track_details, get_audio_features, get_audio_analysis)\u001b[0m\n\u001b[1;32m      6\u001b[0m     trackDetails_df = unq_id_df.apply(get_trackDetails, \n\u001b[1;32m      7\u001b[0m                                         \u001b[0maxis\u001b[0m\u001b[0;34m=\u001b[0m\u001b[0;36m1\u001b[0m\u001b[0;34m,\u001b[0m\u001b[0;34m\u001b[0m\u001b[0;34m\u001b[0m\u001b[0m\n\u001b[0;32m----> 8\u001b[0;31m                                         result_type='expand') if get_track_details else None\n\u001b[0m\u001b[1;32m      9\u001b[0m \u001b[0;34m\u001b[0m\u001b[0m\n\u001b[1;32m     10\u001b[0m     audioFeatures_df = unq_id_df.apply(get_audioFeatures, \n",
      "\u001b[0;32m~/anaconda3/lib/python3.7/site-packages/pandas/core/frame.py\u001b[0m in \u001b[0;36mapply\u001b[0;34m(self, func, axis, broadcast, raw, reduce, result_type, args, **kwds)\u001b[0m\n\u001b[1;32m   6485\u001b[0m                          \u001b[0margs\u001b[0m\u001b[0;34m=\u001b[0m\u001b[0margs\u001b[0m\u001b[0;34m,\u001b[0m\u001b[0;34m\u001b[0m\u001b[0;34m\u001b[0m\u001b[0m\n\u001b[1;32m   6486\u001b[0m                          kwds=kwds)\n\u001b[0;32m-> 6487\u001b[0;31m         \u001b[0;32mreturn\u001b[0m \u001b[0mop\u001b[0m\u001b[0;34m.\u001b[0m\u001b[0mget_result\u001b[0m\u001b[0;34m(\u001b[0m\u001b[0;34m)\u001b[0m\u001b[0;34m\u001b[0m\u001b[0;34m\u001b[0m\u001b[0m\n\u001b[0m\u001b[1;32m   6488\u001b[0m \u001b[0;34m\u001b[0m\u001b[0m\n\u001b[1;32m   6489\u001b[0m     \u001b[0;32mdef\u001b[0m \u001b[0mapplymap\u001b[0m\u001b[0;34m(\u001b[0m\u001b[0mself\u001b[0m\u001b[0;34m,\u001b[0m \u001b[0mfunc\u001b[0m\u001b[0;34m)\u001b[0m\u001b[0;34m:\u001b[0m\u001b[0;34m\u001b[0m\u001b[0;34m\u001b[0m\u001b[0m\n",
      "\u001b[0;32m~/anaconda3/lib/python3.7/site-packages/pandas/core/apply.py\u001b[0m in \u001b[0;36mget_result\u001b[0;34m(self)\u001b[0m\n\u001b[1;32m    149\u001b[0m             \u001b[0;32mreturn\u001b[0m \u001b[0mself\u001b[0m\u001b[0;34m.\u001b[0m\u001b[0mapply_raw\u001b[0m\u001b[0;34m(\u001b[0m\u001b[0;34m)\u001b[0m\u001b[0;34m\u001b[0m\u001b[0;34m\u001b[0m\u001b[0m\n\u001b[1;32m    150\u001b[0m \u001b[0;34m\u001b[0m\u001b[0m\n\u001b[0;32m--> 151\u001b[0;31m         \u001b[0;32mreturn\u001b[0m \u001b[0mself\u001b[0m\u001b[0;34m.\u001b[0m\u001b[0mapply_standard\u001b[0m\u001b[0;34m(\u001b[0m\u001b[0;34m)\u001b[0m\u001b[0;34m\u001b[0m\u001b[0;34m\u001b[0m\u001b[0m\n\u001b[0m\u001b[1;32m    152\u001b[0m \u001b[0;34m\u001b[0m\u001b[0m\n\u001b[1;32m    153\u001b[0m     \u001b[0;32mdef\u001b[0m \u001b[0mapply_empty_result\u001b[0m\u001b[0;34m(\u001b[0m\u001b[0mself\u001b[0m\u001b[0;34m)\u001b[0m\u001b[0;34m:\u001b[0m\u001b[0;34m\u001b[0m\u001b[0;34m\u001b[0m\u001b[0m\n",
      "\u001b[0;32m~/anaconda3/lib/python3.7/site-packages/pandas/core/apply.py\u001b[0m in \u001b[0;36mapply_standard\u001b[0;34m(self)\u001b[0m\n\u001b[1;32m    255\u001b[0m \u001b[0;34m\u001b[0m\u001b[0m\n\u001b[1;32m    256\u001b[0m         \u001b[0;31m# compute the result using the series generator\u001b[0m\u001b[0;34m\u001b[0m\u001b[0;34m\u001b[0m\u001b[0;34m\u001b[0m\u001b[0m\n\u001b[0;32m--> 257\u001b[0;31m         \u001b[0mself\u001b[0m\u001b[0;34m.\u001b[0m\u001b[0mapply_series_generator\u001b[0m\u001b[0;34m(\u001b[0m\u001b[0;34m)\u001b[0m\u001b[0;34m\u001b[0m\u001b[0;34m\u001b[0m\u001b[0m\n\u001b[0m\u001b[1;32m    258\u001b[0m \u001b[0;34m\u001b[0m\u001b[0m\n\u001b[1;32m    259\u001b[0m         \u001b[0;31m# wrap results\u001b[0m\u001b[0;34m\u001b[0m\u001b[0;34m\u001b[0m\u001b[0;34m\u001b[0m\u001b[0m\n",
      "\u001b[0;32m~/anaconda3/lib/python3.7/site-packages/pandas/core/apply.py\u001b[0m in \u001b[0;36mapply_series_generator\u001b[0;34m(self)\u001b[0m\n\u001b[1;32m    284\u001b[0m             \u001b[0;32mtry\u001b[0m\u001b[0;34m:\u001b[0m\u001b[0;34m\u001b[0m\u001b[0;34m\u001b[0m\u001b[0m\n\u001b[1;32m    285\u001b[0m                 \u001b[0;32mfor\u001b[0m \u001b[0mi\u001b[0m\u001b[0;34m,\u001b[0m \u001b[0mv\u001b[0m \u001b[0;32min\u001b[0m \u001b[0menumerate\u001b[0m\u001b[0;34m(\u001b[0m\u001b[0mseries_gen\u001b[0m\u001b[0;34m)\u001b[0m\u001b[0;34m:\u001b[0m\u001b[0;34m\u001b[0m\u001b[0;34m\u001b[0m\u001b[0m\n\u001b[0;32m--> 286\u001b[0;31m                     \u001b[0mresults\u001b[0m\u001b[0;34m[\u001b[0m\u001b[0mi\u001b[0m\u001b[0;34m]\u001b[0m \u001b[0;34m=\u001b[0m \u001b[0mself\u001b[0m\u001b[0;34m.\u001b[0m\u001b[0mf\u001b[0m\u001b[0;34m(\u001b[0m\u001b[0mv\u001b[0m\u001b[0;34m)\u001b[0m\u001b[0;34m\u001b[0m\u001b[0;34m\u001b[0m\u001b[0m\n\u001b[0m\u001b[1;32m    287\u001b[0m                     \u001b[0mkeys\u001b[0m\u001b[0;34m.\u001b[0m\u001b[0mappend\u001b[0m\u001b[0;34m(\u001b[0m\u001b[0mv\u001b[0m\u001b[0;34m.\u001b[0m\u001b[0mname\u001b[0m\u001b[0;34m)\u001b[0m\u001b[0;34m\u001b[0m\u001b[0;34m\u001b[0m\u001b[0m\n\u001b[1;32m    288\u001b[0m             \u001b[0;32mexcept\u001b[0m \u001b[0mException\u001b[0m \u001b[0;32mas\u001b[0m \u001b[0me\u001b[0m\u001b[0;34m:\u001b[0m\u001b[0;34m\u001b[0m\u001b[0;34m\u001b[0m\u001b[0m\n",
      "\u001b[0;32m<ipython-input-9-9ae8708235d9>\u001b[0m in \u001b[0;36mget_trackDetails\u001b[0;34m(internalTrackId_row)\u001b[0m\n\u001b[1;32m      1\u001b[0m \u001b[0;32mdef\u001b[0m \u001b[0mget_trackDetails\u001b[0m\u001b[0;34m(\u001b[0m\u001b[0minternalTrackId_row\u001b[0m\u001b[0;34m)\u001b[0m\u001b[0;34m:\u001b[0m\u001b[0;34m\u001b[0m\u001b[0;34m\u001b[0m\u001b[0m\n\u001b[0;32m----> 2\u001b[0;31m     \u001b[0minternalTrackId\u001b[0m \u001b[0;34m=\u001b[0m \u001b[0minternalTrackId_row\u001b[0m\u001b[0;34m[\u001b[0m\u001b[0;34m'Spotify_ID'\u001b[0m\u001b[0;34m]\u001b[0m\u001b[0;34m\u001b[0m\u001b[0;34m\u001b[0m\u001b[0m\n\u001b[0m\u001b[1;32m      3\u001b[0m     \u001b[0mtrackDetails_dict\u001b[0m \u001b[0;34m=\u001b[0m \u001b[0msp\u001b[0m\u001b[0;34m.\u001b[0m\u001b[0mtrack\u001b[0m\u001b[0;34m(\u001b[0m\u001b[0minternalTrackId\u001b[0m\u001b[0;34m)\u001b[0m\u001b[0;34m\u001b[0m\u001b[0;34m\u001b[0m\u001b[0m\n\u001b[1;32m      4\u001b[0m     \u001b[0;32mreturn\u001b[0m \u001b[0;34m{\u001b[0m\u001b[0;34m'Spotify_ID'\u001b[0m\u001b[0;34m:\u001b[0m\u001b[0minternalTrackId\u001b[0m\u001b[0;34m,\u001b[0m \u001b[0;34m'Track Details Obj'\u001b[0m\u001b[0;34m:\u001b[0m\u001b[0mtrackDetails_dict\u001b[0m\u001b[0;34m}\u001b[0m\u001b[0;34m\u001b[0m\u001b[0;34m\u001b[0m\u001b[0m\n",
      "\u001b[0;32m~/anaconda3/lib/python3.7/site-packages/pandas/core/series.py\u001b[0m in \u001b[0;36m__getitem__\u001b[0;34m(self, key)\u001b[0m\n\u001b[1;32m    866\u001b[0m         \u001b[0mkey\u001b[0m \u001b[0;34m=\u001b[0m \u001b[0mcom\u001b[0m\u001b[0;34m.\u001b[0m\u001b[0mapply_if_callable\u001b[0m\u001b[0;34m(\u001b[0m\u001b[0mkey\u001b[0m\u001b[0;34m,\u001b[0m \u001b[0mself\u001b[0m\u001b[0;34m)\u001b[0m\u001b[0;34m\u001b[0m\u001b[0;34m\u001b[0m\u001b[0m\n\u001b[1;32m    867\u001b[0m         \u001b[0;32mtry\u001b[0m\u001b[0;34m:\u001b[0m\u001b[0;34m\u001b[0m\u001b[0;34m\u001b[0m\u001b[0m\n\u001b[0;32m--> 868\u001b[0;31m             \u001b[0mresult\u001b[0m \u001b[0;34m=\u001b[0m \u001b[0mself\u001b[0m\u001b[0;34m.\u001b[0m\u001b[0mindex\u001b[0m\u001b[0;34m.\u001b[0m\u001b[0mget_value\u001b[0m\u001b[0;34m(\u001b[0m\u001b[0mself\u001b[0m\u001b[0;34m,\u001b[0m \u001b[0mkey\u001b[0m\u001b[0;34m)\u001b[0m\u001b[0;34m\u001b[0m\u001b[0;34m\u001b[0m\u001b[0m\n\u001b[0m\u001b[1;32m    869\u001b[0m \u001b[0;34m\u001b[0m\u001b[0m\n\u001b[1;32m    870\u001b[0m             \u001b[0;32mif\u001b[0m \u001b[0;32mnot\u001b[0m \u001b[0mis_scalar\u001b[0m\u001b[0;34m(\u001b[0m\u001b[0mresult\u001b[0m\u001b[0;34m)\u001b[0m\u001b[0;34m:\u001b[0m\u001b[0;34m\u001b[0m\u001b[0;34m\u001b[0m\u001b[0m\n",
      "\u001b[0;32m~/anaconda3/lib/python3.7/site-packages/pandas/core/indexes/base.py\u001b[0m in \u001b[0;36mget_value\u001b[0;34m(self, series, key)\u001b[0m\n\u001b[1;32m   4387\u001b[0m                     \u001b[0;32mraise\u001b[0m \u001b[0mInvalidIndexError\u001b[0m\u001b[0;34m(\u001b[0m\u001b[0mkey\u001b[0m\u001b[0;34m)\u001b[0m\u001b[0;34m\u001b[0m\u001b[0;34m\u001b[0m\u001b[0m\n\u001b[1;32m   4388\u001b[0m                 \u001b[0;32melse\u001b[0m\u001b[0;34m:\u001b[0m\u001b[0;34m\u001b[0m\u001b[0;34m\u001b[0m\u001b[0m\n\u001b[0;32m-> 4389\u001b[0;31m                     \u001b[0;32mraise\u001b[0m \u001b[0me1\u001b[0m\u001b[0;34m\u001b[0m\u001b[0;34m\u001b[0m\u001b[0m\n\u001b[0m\u001b[1;32m   4390\u001b[0m             \u001b[0;32mexcept\u001b[0m \u001b[0mException\u001b[0m\u001b[0;34m:\u001b[0m  \u001b[0;31m# pragma: no cover\u001b[0m\u001b[0;34m\u001b[0m\u001b[0;34m\u001b[0m\u001b[0m\n\u001b[1;32m   4391\u001b[0m                 \u001b[0;32mraise\u001b[0m \u001b[0me1\u001b[0m\u001b[0;34m\u001b[0m\u001b[0;34m\u001b[0m\u001b[0m\n",
      "\u001b[0;32m~/anaconda3/lib/python3.7/site-packages/pandas/core/indexes/base.py\u001b[0m in \u001b[0;36mget_value\u001b[0;34m(self, series, key)\u001b[0m\n\u001b[1;32m   4373\u001b[0m         \u001b[0;32mtry\u001b[0m\u001b[0;34m:\u001b[0m\u001b[0;34m\u001b[0m\u001b[0;34m\u001b[0m\u001b[0m\n\u001b[1;32m   4374\u001b[0m             return self._engine.get_value(s, k,\n\u001b[0;32m-> 4375\u001b[0;31m                                           tz=getattr(series.dtype, 'tz', None))\n\u001b[0m\u001b[1;32m   4376\u001b[0m         \u001b[0;32mexcept\u001b[0m \u001b[0mKeyError\u001b[0m \u001b[0;32mas\u001b[0m \u001b[0me1\u001b[0m\u001b[0;34m:\u001b[0m\u001b[0;34m\u001b[0m\u001b[0;34m\u001b[0m\u001b[0m\n\u001b[1;32m   4377\u001b[0m             \u001b[0;32mif\u001b[0m \u001b[0mlen\u001b[0m\u001b[0;34m(\u001b[0m\u001b[0mself\u001b[0m\u001b[0;34m)\u001b[0m \u001b[0;34m>\u001b[0m \u001b[0;36m0\u001b[0m \u001b[0;32mand\u001b[0m \u001b[0;34m(\u001b[0m\u001b[0mself\u001b[0m\u001b[0;34m.\u001b[0m\u001b[0mholds_integer\u001b[0m\u001b[0;34m(\u001b[0m\u001b[0;34m)\u001b[0m \u001b[0;32mor\u001b[0m \u001b[0mself\u001b[0m\u001b[0;34m.\u001b[0m\u001b[0mis_boolean\u001b[0m\u001b[0;34m(\u001b[0m\u001b[0;34m)\u001b[0m\u001b[0;34m)\u001b[0m\u001b[0;34m:\u001b[0m\u001b[0;34m\u001b[0m\u001b[0;34m\u001b[0m\u001b[0m\n",
      "\u001b[0;32mpandas/_libs/index.pyx\u001b[0m in \u001b[0;36mpandas._libs.index.IndexEngine.get_value\u001b[0;34m()\u001b[0m\n",
      "\u001b[0;32mpandas/_libs/index.pyx\u001b[0m in \u001b[0;36mpandas._libs.index.IndexEngine.get_value\u001b[0;34m()\u001b[0m\n",
      "\u001b[0;32mpandas/_libs/index.pyx\u001b[0m in \u001b[0;36mpandas._libs.index.IndexEngine.get_loc\u001b[0;34m()\u001b[0m\n",
      "\u001b[0;32mpandas/_libs/hashtable_class_helper.pxi\u001b[0m in \u001b[0;36mpandas._libs.hashtable.PyObjectHashTable.get_item\u001b[0;34m()\u001b[0m\n",
      "\u001b[0;32mpandas/_libs/hashtable_class_helper.pxi\u001b[0m in \u001b[0;36mpandas._libs.hashtable.PyObjectHashTable.get_item\u001b[0;34m()\u001b[0m\n",
      "\u001b[0;31mKeyError\u001b[0m: ('Spotify_ID', 'occurred at index 1')"
     ]
    }
   ],
   "source": [
    "trackInfo_tup = gen_trackInfo_df(chartCrawl_df[chartCrawl_df['Artist']=='Drake'],\n",
    "                                 get_track_details=True,\n",
    "                                 get_audio_features=True,\n",
    "                                 get_audio_analysis=False)"
   ]
  },
  {
   "cell_type": "code",
   "execution_count": null,
   "metadata": {},
   "outputs": [],
   "source": [
    "drake_details_df = trackInfo_tup[0]"
   ]
  },
  {
   "cell_type": "code",
   "execution_count": null,
   "metadata": {},
   "outputs": [],
   "source": [
    "tgt_features = ['danceability', 'energy', 'key', 'loudness', 'mode', 'speechiness', 'acousticness', \n",
    "                'instrumentalness', 'liveness', 'valence', 'tempo', 'duration_ms', 'time_signature']"
   ]
  },
  {
   "cell_type": "code",
   "execution_count": null,
   "metadata": {},
   "outputs": [],
   "source": [
    "drake_features_df = pd.DataFrame(trackInfo_tup[1], copy=True)\n",
    "for feature in tgt_features:\n",
    "    drake_features_df[feature] = drake_features_df['Audio Features Obj'].apply(lambda a: a[feature])\n",
    "drake_features_df.set_index('Internal Track ID')\n",
    "drake_features_df.to_csv('./drake_audio_features.csv')"
   ]
  },
  {
   "cell_type": "code",
   "execution_count": null,
   "metadata": {
    "scrolled": true
   },
   "outputs": [],
   "source": [
    "talk_up_df = drake_details_df[(drake_details_df['Internal Track ID']=='3Yw09dj3cTXsAzlLjgBfIP') |\n",
    "                 (drake_details_df['Internal Track ID']=='4ksuI04WMvUnJbHQjgs3L5')]\n",
    "talk_up_df"
   ]
  },
  {
   "cell_type": "code",
   "execution_count": null,
   "metadata": {
    "scrolled": true
   },
   "outputs": [],
   "source": [
    "gods_plan_df = drake_details_df[drake_details_df['Internal Track ID'].isin(\n",
    "    ['2XW4DbS6NddZxRPm5rMCeY', '6T8cJz5lAqGer9GUHGyelE', '2VWbHHhWnMzKWPUs4IEEW9', '6DCZcSspjsKoFjzjrWoCdn'] \n",
    ")]\n",
    "gods_plan_df"
   ]
  },
  {
   "cell_type": "code",
   "execution_count": null,
   "metadata": {
    "scrolled": true
   },
   "outputs": [],
   "source": [
    "dont_talk_df = drake_details_df[drake_details_df['Internal Track ID'].isin(\n",
    "    ['36ONiya0OANYknz0GgJmwB', '6G8kHiVZ1jW7vHMPVRNZU0'] \n",
    ")]\n",
    "dont_talk_df"
   ]
  },
  {
   "cell_type": "code",
   "execution_count": null,
   "metadata": {},
   "outputs": [],
   "source": [
    "tgt_keys_arr = ['disc_number', 'duration_ms', 'explicit', 'external_ids', \n",
    "                'external_urls', 'href', 'id', 'name', 'preview_url', 'track_number', 'uri']\n",
    "\n",
    "def print_track_compares(track_df, keys_arr=tgt_keys_arr):\n",
    "    print('----------\\n')\n",
    "    for track_idx, details_obj in track_df['Track Details Obj'].items():\n",
    "        print('track_idx:\\t', track_idx, '\\n')\n",
    "        for tgt_key in tgt_keys_arr:\n",
    "            print(tgt_key + ':\\t\\t', details_obj[tgt_key])\n",
    "        print('\\n----------\\n')"
   ]
  },
  {
   "cell_type": "code",
   "execution_count": null,
   "metadata": {
    "scrolled": true
   },
   "outputs": [],
   "source": [
    "print_track_compares(talk_up_df)"
   ]
  },
  {
   "cell_type": "code",
   "execution_count": null,
   "metadata": {
    "scrolled": true
   },
   "outputs": [],
   "source": [
    "print_track_compares(gods_plan_df)"
   ]
  },
  {
   "cell_type": "code",
   "execution_count": null,
   "metadata": {
    "scrolled": true
   },
   "outputs": [],
   "source": [
    "print_track_compares(dont_talk_df)"
   ]
  },
  {
   "cell_type": "code",
   "execution_count": null,
   "metadata": {
    "scrolled": true
   },
   "outputs": [],
   "source": [
    "trackInfo_tup[1]"
   ]
  },
  {
   "cell_type": "code",
   "execution_count": null,
   "metadata": {},
   "outputs": [],
   "source": [
    "trackInfo_tup[2]"
   ]
  },
  {
   "cell_type": "code",
   "execution_count": null,
   "metadata": {},
   "outputs": [],
   "source": [
    "sp.audio_analysis('2QpGZOhTCHHiKmpSO9FW4h')['track'].keys()"
   ]
  },
  {
   "cell_type": "code",
   "execution_count": null,
   "metadata": {},
   "outputs": [],
   "source": [
    "sp.audio_features('2QpGZOhTCHHiKmpSO9FW4h')[0].keys()"
   ]
  },
  {
   "cell_type": "code",
   "execution_count": null,
   "metadata": {},
   "outputs": [],
   "source": [
    "sp.audio_analysis('https://open.spotify.com/track/2QpGZOhTCHHiKmpSO9FW4h')"
   ]
  },
  {
   "cell_type": "code",
   "execution_count": null,
   "metadata": {},
   "outputs": [],
   "source": [
    "sp.track('https://open.spotify.com/track/2QpGZOhTCHHiKmpSO9FW4h')"
   ]
  },
  {
   "cell_type": "code",
   "execution_count": null,
   "metadata": {},
   "outputs": [],
   "source": [
    "search_result = sp.search(q='Dance Monkey Tones and I', limit=1, type='track', market='US')\n",
    "search_result['tracks']['items'][0].keys()"
   ]
  },
  {
   "cell_type": "code",
   "execution_count": null,
   "metadata": {
    "scrolled": true
   },
   "outputs": [],
   "source": [
    "sp.search(q='Dance Monkey Tones and I', limit=3, type='track', market='US')"
   ]
  },
  {
   "cell_type": "code",
   "execution_count": null,
   "metadata": {
    "scrolled": true
   },
   "outputs": [],
   "source": [
    "drake_url_test1 = sp.track('0w1ZtnzQmtmuuoKxHT0pLL')\n",
    "drake_url_test1"
   ]
  },
  {
   "cell_type": "code",
   "execution_count": null,
   "metadata": {
    "scrolled": true
   },
   "outputs": [],
   "source": [
    "drake_url_test2 = sp.track('4HG1YiGBseVKzjyKcmAJen')\n",
    "drake_url_test2"
   ]
  },
  {
   "cell_type": "code",
   "execution_count": null,
   "metadata": {
    "scrolled": true
   },
   "outputs": [],
   "source": [
    "keys_list = list(drake_url_test1.keys())\n",
    "for key in keys_list:\n",
    "    print(key)\n",
    "    print(drake_url_test1[key], '\\n')"
   ]
  },
  {
   "cell_type": "code",
   "execution_count": null,
   "metadata": {},
   "outputs": [],
   "source": [
    "pd.set_option('display.max_colwidth', -1)\n",
    "pd.reset_option('display.max_rows')\n",
    "drake_url_test1_list = [drake_url_test1[key] for key in drake_url_test1.keys()]\n",
    "drake_url_test2_list = [drake_url_test2[key] for key in drake_url_test2.keys()]\n",
    "test_df = pd.DataFrame({'0w1ZtnzQmtmuuoKxHT0pLL':drake_url_test1_list, \n",
    "                        '4HG1YiGBseVKzjyKcmAJen':drake_url_test2_list},\n",
    "                       index=drake_url_test1.keys())\n",
    "test_df['Same val?'] = test_df['0w1ZtnzQmtmuuoKxHT0pLL']==test_df['4HG1YiGBseVKzjyKcmAJen']"
   ]
  },
  {
   "cell_type": "code",
   "execution_count": null,
   "metadata": {
    "scrolled": true
   },
   "outputs": [],
   "source": [
    "test_df"
   ]
  },
  {
   "cell_type": "code",
   "execution_count": null,
   "metadata": {},
   "outputs": [],
   "source": [
    "drake_url_test1['id'] == drake_url_test2['id']"
   ]
  },
  {
   "cell_type": "code",
   "execution_count": null,
   "metadata": {},
   "outputs": [],
   "source": [
    "drake_url_test1['href'] == drake_url_test2['href']"
   ]
  },
  {
   "cell_type": "code",
   "execution_count": null,
   "metadata": {},
   "outputs": [],
   "source": [
    "drake_url_test1['href']"
   ]
  },
  {
   "cell_type": "code",
   "execution_count": null,
   "metadata": {},
   "outputs": [],
   "source": [
    "drake_url_test1['external_urls'] == drake_url_test2['external_urls']"
   ]
  },
  {
   "cell_type": "code",
   "execution_count": null,
   "metadata": {},
   "outputs": [],
   "source": [
    "drake_url_test1['external_urls']"
   ]
  },
  {
   "cell_type": "code",
   "execution_count": null,
   "metadata": {},
   "outputs": [],
   "source": [
    "drake_url_test2['external_urls']"
   ]
  },
  {
   "cell_type": "code",
   "execution_count": null,
   "metadata": {},
   "outputs": [],
   "source": [
    "drake_url_test1['external_urls'] == drake_url_test2['external_urls']"
   ]
  }
 ],
 "metadata": {
  "kernelspec": {
   "display_name": "Python 3",
   "language": "python",
   "name": "python3"
  },
  "language_info": {
   "codemirror_mode": {
    "name": "ipython",
    "version": 3
   },
   "file_extension": ".py",
   "mimetype": "text/x-python",
   "name": "python",
   "nbconvert_exporter": "python",
   "pygments_lexer": "ipython3",
   "version": "3.7.3"
  }
 },
 "nbformat": 4,
 "nbformat_minor": 2
}
